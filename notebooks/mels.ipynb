{
 "cells": [
  {
   "cell_type": "code",
   "execution_count": null,
   "id": "2660d72f-acc9-4809-ad89-6cf9f7856df3",
   "metadata": {},
   "outputs": [],
   "source": [
    "%load_ext autoreload\n",
    "%autoreload 2"
   ]
  },
  {
   "cell_type": "code",
   "execution_count": null,
   "id": "85bb8994-2ee0-421d-b60f-0b3f7467b097",
   "metadata": {},
   "outputs": [],
   "source": [
    "import itertools\n",
    "import random\n",
    "\n",
    "import librosa\n",
    "import matplotlib.pyplot as plt\n",
    "import numpy as np\n",
    "import torch\n",
    "import torchaudio\n",
    "\n",
    "import promonet"
   ]
  },
  {
   "cell_type": "code",
   "execution_count": null,
   "id": "8f7de1db-62df-4ae5-b1a7-8913beb52af6",
   "metadata": {},
   "outputs": [],
   "source": [
    "promonet.NUM_FFT = 4096\n",
    "promonet.NUM_MELS = 256\n",
    "promonet.WINDOW_SIZE = 4096"
   ]
  },
  {
   "cell_type": "code",
   "execution_count": null,
   "id": "25910cef-d1c2-4ae7-afbf-52bf26e11881",
   "metadata": {},
   "outputs": [],
   "source": [
    "audio = promonet.load.audio('/hemera-storage1/pardo/max/test-audio/sitting.wav')[..., int(.2 * promonet.SAMPLE_RATE):int(6.2 * promonet.SAMPLE_RATE)]"
   ]
  },
  {
   "cell_type": "code",
   "execution_count": null,
   "id": "c793ca48-b44e-4daa-9450-f8b0ba8bced9",
   "metadata": {},
   "outputs": [],
   "source": [
    "# Compute pitch and periodicity\n",
    "pitch, periodicity = promonet.preprocess.from_audio(\n",
    "    audio,\n",
    "    gpu=0,\n",
    "    features=['pitch', 'periodicity'])\n",
    "pitch, periodicity = pitch.cpu(), periodicity.cpu()\n",
    "\n",
    "# Compute formants\n",
    "formants = promonet.formants.from_audio(audio, pitch=pitch, gpu=0, max_formants=5).cpu()"
   ]
  },
  {
   "cell_type": "code",
   "execution_count": null,
   "id": "ac7c3084-f316-4244-9459-81d2b8b923e2",
   "metadata": {},
   "outputs": [],
   "source": [
    "figure, axes = plt.subplots(3, 1, figsize=(9, 1.5 * 1.5 * 3), gridspec_kw={'height_ratios': [1, 3, 3]})\n",
    "\n",
    "i = 0\n",
    "axes[i].plot(audio.squeeze().cpu(), color='black', linewidth=.5)\n",
    "axes[i].set_xmargin(0.)\n",
    "axes[i].spines['top'].set_visible(False)\n",
    "axes[i].spines['right'].set_visible(False)\n",
    "axes[i].spines['bottom'].set_visible(False)\n",
    "axes[i].spines['left'].set_visible(False)\n",
    "axes[i].set_xticks([])\n",
    "axes[i].set_ylim([-1., 1.])\n",
    "axes[i].tick_params(axis=u'both', which=u'both', length=0)\n",
    "for tick in [-1., 1.]:\n",
    "    axes[i].hlines(tick, xmin=0., xmax=audio.shape[-1], color='#aaaa', linestyle='--')\n",
    "\n",
    "i += 1\n",
    "features = promonet.preprocess.spectrogram.from_audio(audio).cpu().numpy()\n",
    "times = np.linspace(\n",
    "    0,\n",
    "    promonet.convert.samples_to_seconds(audio.shape[-1]),\n",
    "    features.shape[-1])\n",
    "frequencies = torch.abs(torch.fft.fftfreq(\n",
    "    promonet.NUM_FFT,\n",
    "    1 / promonet.SAMPLE_RATE\n",
    ")[:promonet.NUM_FFT // 2 + 1])\n",
    "axes[i].pcolormesh(times, frequencies[3:], np.log10(features[3:-1, :-1]))\n",
    "axes[i].set_yticks([50, 400, 800, 1600, 3200], ['50', '400', '800', '1600', '3200'], fontsize=12)\n",
    "axes[i].set_ylim(frequencies[3], 3200)\n",
    "for spine in axes[i].spines.values():\n",
    "    spine.set_visible(False)\n",
    "axes[i].set_xticks([])\n",
    "axes[i].set_ylabel('Frequency (Hz)', fontsize=16)\n",
    "    \n",
    "# Overlay pitch\n",
    "unvoiced = periodicity[0] < promonet.VOICING_THRESHOLD\n",
    "x = torch.clone(pitch).squeeze()\n",
    "x[unvoiced] = float('nan')\n",
    "axes[i].plot(times, x, linewidth=1.5, color='black', label='Pitch')\n",
    "\n",
    "# Overlay formants\n",
    "colors = ['green', 'red', 'blue', 'yellow', 'teal']\n",
    "for j, formant in enumerate(formants[1:]):\n",
    "    x = torch.clone(formant)\n",
    "    x[unvoiced] = float('nan')\n",
    "    axes[i].plot(\n",
    "        times,\n",
    "        x,\n",
    "        linewidth=1.5,\n",
    "        color=colors[j],\n",
    "        linestyle='--',\n",
    "        label=f'F{j}')\n",
    "\n",
    "i += 1\n",
    "features = promonet.preprocess.spectrogram.from_audio(audio, mels=True).cpu().numpy()\n",
    "\n",
    "frequencies = librosa.mel_frequencies(promonet.NUM_MELS + 2, fmax=promonet.SAMPLE_RATE // 2)\n",
    "axes[i].pcolormesh(times, frequencies[3:-1], features[2:])\n",
    "axes[i].set_yscale('symlog')\n",
    "axes[i].set_yticks([50, 100, 200, 400, 800, 1600, 3200], ['50', '100', '200', '400', '800', '1600', '3200'], fontsize=12)\n",
    "axes[i].set_ylim(frequencies[3], 3200)\n",
    "for spine in axes[i].spines.values():\n",
    "    spine.set_visible(False)\n",
    "axes[i].set_xlabel('Time (seconds)', fontsize=16)\n",
    "axes[i].set_ylabel('Frequency (Hz)', fontsize=16)\n",
    "    \n",
    "# Overlay pitch\n",
    "unvoiced = periodicity[0] < promonet.VOICING_THRESHOLD\n",
    "x = torch.clone(pitch).squeeze()\n",
    "x[unvoiced] = float('nan')\n",
    "axes[i].plot(times, x, linewidth=1.5, color='black', label='Pitch')\n",
    "\n",
    "# Overlay formants\n",
    "colors = ['green', 'red', 'blue', 'yellow', 'teal']\n",
    "for j, formant in enumerate(formants[1:]):\n",
    "    x = torch.clone(formant)\n",
    "    x[unvoiced] = float('nan')\n",
    "    axes[i].plot(\n",
    "        times,\n",
    "        x,\n",
    "        linewidth=1.5,\n",
    "        color=colors[j],\n",
    "        linestyle='--',\n",
    "        label=f'F{j}')\n",
    "\n",
    "# figure.savefig('mels.png', bbox_inches='tight', pad_inches=.1)\n",
    "figure.savefig('mels.pdf', bbox_inches='tight', pad_inches=.1)\n",
    "# torchaudio.save('mels.wav', audio, promonet.SAMPLE_RATE)"
   ]
  },
  {
   "cell_type": "code",
   "execution_count": null,
   "id": "4aa6e9ad-7019-47b3-9fce-99444220e3a3",
   "metadata": {},
   "outputs": [],
   "source": []
  }
 ],
 "metadata": {
  "kernelspec": {
   "display_name": "promonet",
   "language": "python",
   "name": "promonet"
  },
  "language_info": {
   "codemirror_mode": {
    "name": "ipython",
    "version": 3
   },
   "file_extension": ".py",
   "mimetype": "text/x-python",
   "name": "python",
   "nbconvert_exporter": "python",
   "pygments_lexer": "ipython3",
   "version": "3.10.13"
  }
 },
 "nbformat": 4,
 "nbformat_minor": 5
}
