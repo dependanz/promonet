{
 "cells": [
  {
   "cell_type": "code",
   "execution_count": null,
   "id": "e2a709c9-6dcc-491f-9cb1-02893138ce90",
   "metadata": {},
   "outputs": [],
   "source": [
    "%load_ext autoreload\n",
    "%autoreload 2"
   ]
  },
  {
   "cell_type": "code",
   "execution_count": null,
   "id": "30a60a2d-2952-4aa1-8133-9519047bb0c7",
   "metadata": {},
   "outputs": [],
   "source": [
    "import json\n",
    "\n",
    "import scipy\n",
    "import torch\n",
    "import ppgs\n",
    "\n",
    "import promonet"
   ]
  },
  {
   "cell_type": "code",
   "execution_count": null,
   "id": "6885cd2b-97a8-4858-b6ec-f180c28a00f4",
   "metadata": {},
   "outputs": [],
   "source": [
    "gpu = 0\n",
    "device = 'cpu' if gpu is None else f'cuda:{gpu}'"
   ]
  },
  {
   "cell_type": "markdown",
   "id": "dfd9a9ab-886a-40eb-84b5-dfae87269f8b",
   "metadata": {},
   "source": [
    "### Pitch and WER evaluation"
   ]
  },
  {
   "cell_type": "code",
   "execution_count": null,
   "id": "3b97fb0a-64ef-4dd6-bf3a-e126949da23b",
   "metadata": {},
   "outputs": [],
   "source": [
    "configs = [\n",
    "    'bottleneck',\n",
    "    'encodec',\n",
    "    'mel',\n",
    "    'w2v2fb',\n",
    "    'w2v2fc',\n",
    "    'bottleneck-latent',\n",
    "    'encodec-latent',\n",
    "    'mel-latent',\n",
    "    'w2v2fb-latent',\n",
    "    'w2v2fc-latent']"
   ]
  },
  {
   "cell_type": "code",
   "execution_count": null,
   "id": "f143c50e-d031-4d54-bce9-30f740c6c98d",
   "metadata": {},
   "outputs": [],
   "source": [
    "pitch_results, wer_results, jsd_results = {}, {}, {}\n",
    "for config in configs:\n",
    "    with open(promonet.RESULTS_DIR / config / 'results.json') as file:\n",
    "        result = json.load(file)\n",
    "    pitch_results[config] = .5 * (result['shifted-089']['pitch'] + result['shifted-112']['pitch'])\n",
    "    wer_results[config] = .5 * (result['shifted-089']['wer'] + result['shifted-112']['wer'])\n",
    "    jsd_results[config] = .5 * (result['shifted-089']['ppg'] + result['shifted-112']['ppg'])\n",
    "print('Pitch', json.dumps(pitch_results, indent=4, sort_keys=True))\n",
    "print('WER', json.dumps(wer_results, indent=4, sort_keys=True))\n",
    "print('JSD', json.dumps(jsd_results, indent=4, sort_keys=True))"
   ]
  },
  {
   "cell_type": "markdown",
   "id": "6062ba22-f36e-44ce-a990-a75d80f25963",
   "metadata": {},
   "source": [
    "## PPG JSD evaluation"
   ]
  },
  {
   "cell_type": "code",
   "execution_count": null,
   "id": "06e93e7b-5caf-4096-8ca5-b45257c16a69",
   "metadata": {},
   "outputs": [],
   "source": [
    "class JSDs:\n",
    "    \"\"\"PPG distances at multiple exponents\"\"\"\n",
    "\n",
    "    def __init__(self):\n",
    "        self.jsds = [\n",
    "            promonet.evaluate.metrics.PPG(exponent)\n",
    "            for exponent in torch.round(torch.arange(0.0, 2.0, 0.05), decimals=2)]\n",
    "\n",
    "    def __call__(self):\n",
    "        return {f'{jsd.exponent:02f}': jsd() for jsd in self.jsds}\n",
    "\n",
    "    def update(self, predicted, target):\n",
    "        # Compute PPG\n",
    "        gpu = (\n",
    "            None if predicted.device.type == 'cpu'\n",
    "            else predicted.device.index)\n",
    "        predicted = ppgs.from_audio(\n",
    "            predicted,\n",
    "            promonet.SAMPLE_RATE,\n",
    "            ppgs.RUNS_DIR / 'mel' / '00200000.pt',\n",
    "            gpu)\n",
    "        target = ppgs.from_audio(\n",
    "            target,\n",
    "            promonet.SAMPLE_RATE,\n",
    "            ppgs.RUNS_DIR / 'mel' / '00200000.pt',\n",
    "            gpu)\n",
    "        \n",
    "        # Update metrics\n",
    "        for jsd in self.jsds:\n",
    "            jsd.update(predicted, target)\n",
    "\n",
    "    def reset(self):\n",
    "        for jsd in self.jsds:\n",
    "            jsd.reset()"
   ]
  },
  {
   "cell_type": "code",
   "execution_count": null,
   "id": "e2d7f39e-9b64-4bd4-b9d6-c2b699fe0d14",
   "metadata": {},
   "outputs": [],
   "source": [
    "jsd_results = {}\n",
    "jsd_file_results = {}\n",
    "jsds = JSDs()\n",
    "file_jsds = JSDs()\n",
    "original_files = sorted(list(\n",
    "    (promonet.EVAL_DIR / 'subjective' / 'original').glob('vctk*.wav')))\n",
    "for config in configs:\n",
    "    jsds.reset()\n",
    "    jsd_file_results[config] = {}\n",
    "    eval_directory = promonet.EVAL_DIR / 'subjective' / config\n",
    "    shift089_files = sorted(list(eval_directory.glob('*shifted-089.wav')))\n",
    "    shift112_files = sorted(list(eval_directory.glob('*shifted-112.wav')))\n",
    "    for original, shift089, shift112 in zip(\n",
    "        original_files,\n",
    "        shift089_files,\n",
    "        shift112_files\n",
    "    ):\n",
    "        jsds.update(\n",
    "            promonet.load.audio(shift089).to(device),\n",
    "            promonet.load.audio(original).to(device))\n",
    "        jsds.update(\n",
    "            promonet.load.audio(shift112).to(device),\n",
    "            promonet.load.audio(original).to(device))\n",
    "        file_jsds.reset()\n",
    "        file_jsds.update(\n",
    "            promonet.load.audio(shift089).to(device),\n",
    "            promonet.load.audio(original).to(device))\n",
    "        jsd_file_results[config][shift089.stem] = file_jsds()\n",
    "        file_jsds.reset()\n",
    "        file_jsds.update(\n",
    "            promonet.load.audio(shift112).to(device),\n",
    "            promonet.load.audio(original).to(device))\n",
    "        jsd_file_results[config][shift112.stem] = file_jsds()\n",
    "    jsd_results[config] = jsds()\n",
    "print('JSD', json.dumps(jsd_results, indent=4, sort_keys=True))"
   ]
  },
  {
   "cell_type": "markdown",
   "id": "232fed95-1ae8-420d-9420-5b650209d07a",
   "metadata": {},
   "source": [
    "## Select exponent with highest correlation with WER"
   ]
  },
  {
   "cell_type": "code",
   "execution_count": null,
   "id": "27e7fcf6-59c5-4298-b0da-b84a6813cb5d",
   "metadata": {},
   "outputs": [],
   "source": [
    "wer_file_results = {}\n",
    "for config in configs:\n",
    "    wer_file_results[config] = {}\n",
    "    results_dir = promonet.RESULTS_DIR / config / 'vctk'\n",
    "    for file in results_dir.glob('*.json'):\n",
    "        if file.stem == 'results':\n",
    "            continue\n",
    "        with open(file) as file:\n",
    "            result = json.load(file)\n",
    "        for stem, scores in result['objective']['raw'].items():\n",
    "            if 'shifted' in stem:\n",
    "                wer_file_results[config][stem] = scores['-'.join(stem.split('-')[-2:])]['wer']\n",
    "\n",
    "exponents = jsd_results['mel'].keys()\n",
    "stems = wer_file_results['mel'].keys()\n",
    "\n",
    "correlations = {}\n",
    "for exponent in exponents:\n",
    "    jsd_values, wer_values = [], []\n",
    "    for config in configs:\n",
    "        for stem in stems:\n",
    "            jsd_values.append(jsd_file_results[config][stem][exponent])\n",
    "            wer_values.append(wer_file_results[config][stem])\n",
    "    correlations[exponent] = scipy.stats.pearsonr(jsd_values, wer_values)\n",
    "print('Correlations', json.dumps(correlations, indent=4, sort_keys=True))"
   ]
  },
  {
   "cell_type": "code",
   "execution_count": null,
   "id": "0d5d9976-deb1-405c-8374-a3ec3047206b",
   "metadata": {
    "scrolled": true
   },
   "outputs": [],
   "source": [
    "optimal = '1.200000'\n",
    "jsd_results_optim = {config: value[optimal] for config, value in jsd_results.items()}\n",
    "print('JSD', json.dumps(jsd_results_optim, indent=4, sort_keys=True))"
   ]
  },
  {
   "cell_type": "code",
   "execution_count": null,
   "id": "71a6ad5f-511e-4b7f-babd-cc7213c5caf0",
   "metadata": {},
   "outputs": [],
   "source": []
  }
 ],
 "metadata": {
  "kernelspec": {
   "display_name": "Python 3 (ipykernel)",
   "language": "python",
   "name": "python3"
  },
  "language_info": {
   "codemirror_mode": {
    "name": "ipython",
    "version": 3
   },
   "file_extension": ".py",
   "mimetype": "text/x-python",
   "name": "python",
   "nbconvert_exporter": "python",
   "pygments_lexer": "ipython3",
   "version": "3.10.13"
  }
 },
 "nbformat": 4,
 "nbformat_minor": 5
}
