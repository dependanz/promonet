{
 "cells": [
  {
   "cell_type": "code",
   "execution_count": null,
   "id": "9fcff554-5451-4ad1-a87a-7a64bb2b620c",
   "metadata": {},
   "outputs": [],
   "source": [
    "%load_ext autoreload\n",
    "%autoreload 2"
   ]
  },
  {
   "cell_type": "code",
   "execution_count": null,
   "id": "544cd1aa-1508-4447-bf29-1f7cffcc38a1",
   "metadata": {},
   "outputs": [],
   "source": [
    "import torch\n",
    "import promonet\n",
    "import ppgs\n",
    "import pysodic\n",
    "from pathlib import Path\n",
    "import torchaudio\n",
    "import os\n",
    "import IPython.display as ipd\n",
    "import matplotlib.pyplot as plt"
   ]
  },
  {
   "cell_type": "code",
   "execution_count": null,
   "id": "ceac06e0-3dca-4d10-8859-283829021c7f",
   "metadata": {},
   "outputs": [],
   "source": [
    "config_dir = promonet.ROOT_DIR / 'config' / 'ppgs-experiments'\n",
    "ppgs_config_dir = config_dir / 'ppgs'\n",
    "promonet_config_dir = config_dir / 'promonet'\n",
    "model = 'w2v2fb-ppg'"
   ]
  },
  {
   "cell_type": "code",
   "execution_count": null,
   "id": "a1b52855-b426-4e27-8643-c25ca0da5473",
   "metadata": {},
   "outputs": [],
   "source": [
    "def monophonize(audio_file):\n",
    "    audio, sample_rate = torchaudio.load(audio_file)\n",
    "    audio = audio.mean(dim=0, keepdim=True)\n",
    "    torchaudio.save(audio_file, audio, sample_rate=sample_rate)"
   ]
  },
  {
   "cell_type": "code",
   "execution_count": null,
   "id": "028b6542-d9e8-420b-85b0-8b1c98d1ac24",
   "metadata": {},
   "outputs": [],
   "source": [
    "pitch, periodicity, loudness, voicing = pysodic.from_file('dog_bark.wav')\n",
    "pitch[~voicing] = torch.nan\n",
    "print(pitch.shape)\n",
    "x = range(0, pitch.shape[-1])\n",
    "plt.plot(x, pitch.squeeze(dim=0))\n",
    "plt.plot(x, loudness.squeeze(dim=0))\n",
    "plt.show()"
   ]
  },
  {
   "cell_type": "code",
   "execution_count": null,
   "id": "1e0c617a-2940-4ab7-9da3-d6395fe0d274",
   "metadata": {},
   "outputs": [],
   "source": [
    "audio_file = Path('dog_bark.wav')\n",
    "pitch, periodicity, loudness, voicing = pysodic.from_file('dog_bark.wav')\n",
    "mean = pitch.mean()\n",
    "target_mean = 120\n",
    "pitch = (pitch/(mean/target_mean))\n",
    "x = range(0, pitch.shape[-1])\n",
    "plt.plot(x, pitch.squeeze(dim=0))\n",
    "plt.plot(x, loudness.squeeze(dim=0))\n",
    "plt.show()\n",
    "torch.save(pitch, 'dog_bark-pitch.pt')"
   ]
  },
  {
   "cell_type": "code",
   "execution_count": null,
   "id": "d2fc07c2-7c00-46f6-807c-a211852a61ba",
   "metadata": {},
   "outputs": [],
   "source": [
    "vis_dir = Path('visualizations')\n",
    "with torch.autocast('cuda'):\n",
    "    ppgs.evaluate.visualize.from_ppg_to_image_file(\n",
    "        ppgs.from_file(audio_file, gpu=0).cpu(),\n",
    "        audio_file,\n",
    "        vis_dir / f'fig-{audio_file}.jpg',\n",
    "        font_filename='arial.ttf',\n",
    "    )\n",
    "    # ppgs.evaluate.visualize.from_ppg_to_image_file(reconstruction_inferred_ppg.T, audio_file, 'fig00.jpg', second_ppg=ppg[:, :-1].T, font_filename='arial.ttf')\n",
    "ipd.display(ipd.Image(vis_dir / f'fig-{audio_file}.jpg'))"
   ]
  },
  {
   "cell_type": "code",
   "execution_count": null,
   "id": "cdd886a8-d7dd-45ba-99ce-2e5a0702b6bc",
   "metadata": {},
   "outputs": [],
   "source": [
    "print(pitch.mean())"
   ]
  },
  {
   "cell_type": "code",
   "execution_count": null,
   "id": "415d7848-8f00-4bfc-ba34-00a748a3fc3b",
   "metadata": {},
   "outputs": [],
   "source": [
    "model = 'w2v2fb-ppg'\n",
    "audio_file = Path('dog_bark.wav')\n",
    "# audio_file = Path('dog.mp3')\n",
    "# audio_file = Path('small-dog.mp3')\n",
    "ipd.display(ipd.Audio(audio_file))\n",
    "monophonize(audio_file)\n",
    "output_file = audio_file.stem + '-reconstruction.wav'\n",
    "command = 'python -m promonet '\n",
    "command += '--audio_files ' + str(audio_file) + ' '\n",
    "command += '--output_files ' + str(output_file) + ' '\n",
    "command += '--pitch_files ' + str(audio_file.stem + '-pitch.pt') + ' '\n",
    "command += f'--speaker_ids {16} '\n",
    "# command += f'--speaker_ids {0} '\n",
    "command += f'--config {ppgs_config_dir / (model + \".py\")} {promonet_config_dir / (model + \".py\")} '\n",
    "command += f'--checkpoint /repos/promonet/runs/{model}/generator-00250000.pt '\n",
    "command += f'--gpu 0'\n",
    "print(command)\n",
    "os.system(command)\n",
    "ipd.Audio(output_file)"
   ]
  },
  {
   "cell_type": "code",
   "execution_count": null,
   "id": "b501194e-497f-43f8-804e-7b144260e50e",
   "metadata": {},
   "outputs": [],
   "source": [
    "audio_file = Path('cat_meow.wav')\n",
    "ipd.display(ipd.Audio(audio_file))\n",
    "monophonize(audio_file)\n",
    "output_file = audio_file.stem + '-reconstruction.wav'\n",
    "command = 'python -m promonet '\n",
    "command += '--audio_files ' + str(audio_file) + ' '\n",
    "command += '--output_files ' + str(output_file) + ' '\n",
    "# command += '--pitch_files ' + str(pitch_file) + ' '\n",
    "command += f'--speaker_ids {37} '\n",
    "# command += f'--speaker_ids {0} '\n",
    "command += f'--config {ppgs_config_dir / (model + \".py\")} {promonet_config_dir / (model + \".py\")} '\n",
    "command += f'--checkpoint /repos/promonet/runs/{model}/generator-00800000.pt '\n",
    "command += f'--gpu 0'\n",
    "print(command)\n",
    "os.system(command)\n",
    "ipd.Audio(output_file)"
   ]
  },
  {
   "cell_type": "code",
   "execution_count": null,
   "id": "2c8e1248-616b-479e-825c-adfc0f669916",
   "metadata": {},
   "outputs": [],
   "source": [
    "pitch, periodicity, loudness, voicing = pysodic.from_file('charlie_brown_short.mp3')\n",
    "pitch[~voicing] = torch.nan\n",
    "print(pitch.shape)\n",
    "x = range(0, pitch.shape[-1])\n",
    "plt.plot(x, pitch.squeeze(dim=0))\n",
    "plt.plot(x, loudness.squeeze(dim=0))\n",
    "plt.plot(x, 100*periodicity.squeeze(dim=0))\n",
    "plt.show()"
   ]
  },
  {
   "cell_type": "code",
   "execution_count": null,
   "id": "9833c9aa-e3bb-4df2-bf22-f6e35163f01b",
   "metadata": {},
   "outputs": [],
   "source": [
    "# Create original ppg file\n",
    "model = 'mel-ppg'\n",
    "ppg_file = Path(audio_file.parent / f'{audio_file.stem}-{model}.pt')\n",
    "print(ppg_file)\n",
    "\n",
    "command = 'python -m ppgs '\n",
    "command += f'--sources {audio_file} '\n",
    "command += f'--sinks {ppg_file} '\n",
    "command += f'--config {ppgs_config_dir / (model + \".py\")} '\n",
    "command += f'--gpu 0'\n",
    "\n",
    "print(command)\n",
    "\n",
    "os.system(command)\n",
    "\n",
    "ppg = torch.load(ppg_file)"
   ]
  },
  {
   "cell_type": "code",
   "execution_count": null,
   "id": "c5d892cc-fffb-4bfc-b982-ccf3d2718f0f",
   "metadata": {},
   "outputs": [],
   "source": [
    "vis_dir = Path('visualizations')\n",
    "print(audio_file)\n",
    "with torch.autocast('cuda'):\n",
    "    ppgs.evaluate.visualize.from_ppg_to_image_file(\n",
    "        ppg.T,\n",
    "        audio_file,\n",
    "        vis_dir / f'fig-{audio_file}.jpg',\n",
    "        font_filename='arial.ttf',\n",
    "    )\n",
    "    # ppgs.evaluate.visualize.from_ppg_to_image_file(reconstruction_inferred_ppg.T, audio_file, 'fig00.jpg', second_ppg=ppg[:, :-1].T, font_filename='arial.ttf')\n",
    "ipd.display(ipd.Image(vis_dir / f'fig-{audio_file}.jpg'))"
   ]
  },
  {
   "cell_type": "code",
   "execution_count": null,
   "id": "47bdde8c-a34a-4119-a502-920f050b1b8d",
   "metadata": {},
   "outputs": [],
   "source": [
    "audio_file = Path('charlie_brown_short.mp3')\n",
    "model = 'mel-ppg'\n",
    "ipd.display(ipd.Audio(audio_file))\n",
    "monophonize(audio_file)\n",
    "output_file = audio_file.stem + '-reconstruction.wav'\n",
    "command = 'python -m promonet '\n",
    "command += '--audio_files ' + str(audio_file) + ' '\n",
    "command += '--output_files ' + str(output_file) + ' '\n",
    "# command += '--pitch_files ' + str(pitch_file) + ' '\n",
    "# command += f'--speaker_ids {16} '\n",
    "command += f'--speaker_ids {13} '\n",
    "# command += f'--speaker_ids {0} '\n",
    "command += f'--config {ppgs_config_dir / (model + \".py\")} {promonet_config_dir / (model + \".py\")} '\n",
    "command += f'--checkpoint /repos/promonet/runs/{model}/generator-00250000.pt '\n",
    "command += f'--gpu 0'\n",
    "print(command)\n",
    "os.system(command)\n",
    "ipd.Audio(output_file)"
   ]
  },
  {
   "cell_type": "code",
   "execution_count": null,
   "id": "e79b15af-1e05-47b4-9441-b96da8ef8da9",
   "metadata": {},
   "outputs": [],
   "source": [
    "audio_file = Path('doodlebob.mp3')\n",
    "ipd.display(ipd.Audio(audio_file))\n",
    "monophonize(audio_file)\n",
    "output_file = audio_file.stem + '-reconstruction.wav'\n",
    "command = 'python -m promonet '\n",
    "command += '--audio_files ' + str(audio_file) + ' '\n",
    "command += '--output_files ' + str(output_file) + ' '\n",
    "# command += '--pitch_files ' + str(pitch_file) + ' '\n",
    "command += f'--speaker_ids {13} '\n",
    "# command += f'--speaker_ids {0} '\n",
    "command += f'--config {ppgs_config_dir / (model + \".py\")} {promonet_config_dir / (model + \".py\")} '\n",
    "command += f'--checkpoint /repos/promonet/runs/{model}/generator-00800000.pt '\n",
    "command += f'--gpu 0'\n",
    "print(command)\n",
    "os.system(command)\n",
    "ipd.Audio(output_file)"
   ]
  },
  {
   "cell_type": "code",
   "execution_count": null,
   "id": "fffd8aa2-748a-4728-a338-67c48e98c7a9",
   "metadata": {},
   "outputs": [],
   "source": [
    "# audio_file = Path('fresh_prince.wav')\n",
    "audio_file = Path('moon.mp3')\n",
    "model = 'w2v2fb-ppg'\n",
    "audio, sr = torchaudio.load(audio_file)\n",
    "audio = audio[..., :sr*8]\n",
    "short_file = audio_file.stem + '-short.wav'\n",
    "torchaudio.save(short_file, audio, sr)\n",
    "ipd.display(ipd.Audio(short_file))\n",
    "monophonize(audio_file)\n",
    "output_file = audio_file.stem + '-reconstruction.wav'\n",
    "command = 'python -m promonet '\n",
    "command += '--audio_files ' + str(short_file) + ' '\n",
    "command += '--output_files ' + str(output_file) + ' '\n",
    "# command += '--pitch_files ' + str(pitch_file) + ' '\n",
    "command += f'--speaker_ids {83} '\n",
    "# command += f'--speaker_ids {37} '\n",
    "# command += f'--speaker_ids {0} '\n",
    "command += f'--config {ppgs_config_dir / (model + \".py\")} {promonet_config_dir / (model + \".py\")} '\n",
    "command += f'--checkpoint /repos/promonet/runs/{model}/generator-00800000.pt '\n",
    "command += f'--gpu 0'\n",
    "print(command)\n",
    "os.system(command)\n",
    "ipd.Audio(output_file)"
   ]
  },
  {
   "cell_type": "code",
   "execution_count": null,
   "id": "4c491f88-9384-442e-ba04-6532f13302fb",
   "metadata": {},
   "outputs": [],
   "source": [
    "pitch, periodicity, loudness, voicing = pysodic.from_file('moon-short.wav', voicing_threshold=0.08)\n",
    "pitch[~voicing] = torch.nan\n",
    "print(pitch.shape)\n",
    "x = range(0, pitch.shape[-1])\n",
    "plt.plot(x, pitch.squeeze(dim=0))\n",
    "plt.plot(x, loudness.squeeze(dim=0))\n",
    "plt.plot(x, 100*periodicity.squeeze(dim=0))\n",
    "plt.show()"
   ]
  },
  {
   "cell_type": "code",
   "execution_count": null,
   "id": "7eab7677-3c5a-40a6-b90c-20ba549bd202",
   "metadata": {},
   "outputs": [],
   "source": []
  }
 ],
 "metadata": {
  "kernelspec": {
   "display_name": "Python 3 (ipykernel)",
   "language": "python",
   "name": "python3"
  },
  "language_info": {
   "codemirror_mode": {
    "name": "ipython",
    "version": 3
   },
   "file_extension": ".py",
   "mimetype": "text/x-python",
   "name": "python",
   "nbconvert_exporter": "python",
   "pygments_lexer": "ipython3",
   "version": "3.10.13"
  }
 },
 "nbformat": 4,
 "nbformat_minor": 5
}
