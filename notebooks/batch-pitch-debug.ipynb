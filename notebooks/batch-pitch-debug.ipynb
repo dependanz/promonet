{
 "cells": [
  {
   "cell_type": "code",
   "execution_count": null,
   "metadata": {},
   "outputs": [],
   "source": [
    "%load_ext autoreload\n",
    "%autoreload 2\n"
   ]
  },
  {
   "cell_type": "code",
   "execution_count": null,
   "metadata": {},
   "outputs": [],
   "source": [
    "import matplotlib.pyplot as plt\n",
    "import penn\n",
    "import promonet\n",
    "import torch\n",
    "import torchaudio\n"
   ]
  },
  {
   "cell_type": "code",
   "execution_count": null,
   "metadata": {},
   "outputs": [],
   "source": [
    "gpu = 0\n",
    "dataset = 'vctk'\n",
    "\n",
    "# Get cache directory\n",
    "directory = promonet.CACHE_DIR / 'vctk'\n",
    "\n",
    "# Get text and audio files for this speaker\n",
    "audio_files = sorted(list(directory.rglob('*.wav')))\n",
    "audio_files = [file for file in audio_files if '-' in file.stem]\n"
   ]
  },
  {
   "cell_type": "code",
   "execution_count": null,
   "metadata": {},
   "outputs": [],
   "source": [
    "for file in audio_files[6877:6881]:\n",
    "    audio = promonet.load.audio(file)\n",
    "    pitch, periodicity, loudness, ppg = promonet.preprocess.from_audio(audio, gpu=1)\n",
    "    fig = promonet.plot.from_features(\n",
    "        audio,\n",
    "        *promonet.load.features(file.parent / file.stem),\n",
    "        pitch.cpu(),\n",
    "        periodicity.cpu(),\n",
    "        loudness.cpu(),\n",
    "        ppg.cpu())\n"
   ]
  },
  {
   "cell_type": "code",
   "execution_count": null,
   "metadata": {},
   "outputs": [],
   "source": [
    "# w/ clean-up\n",
    "numfiles = 6900\n",
    "penn.from_files_to_files(\n",
    "    audio_files[:numfiles],\n",
    "    hopsize=promonet.convert.samples_to_seconds(promonet.HOPSIZE),\n",
    "    fmin=promonet.FMIN,\n",
    "    fmax=promonet.FMAX,\n",
    "    batch_size=2048,\n",
    "    center='half-hop',\n",
    "    interp_unvoiced_at=promonet.VOICING_THRESOLD,\n",
    "    gpu=gpu)\n"
   ]
  },
  {
   "cell_type": "code",
   "execution_count": null,
   "metadata": {},
   "outputs": [],
   "source": [
    "batch_pitch = torch.load('pitch.pt')\n",
    "batch_periodicity = torch.load('periodicity.pt')\n",
    "batch_lengths = [264, 334, 217, 283, 217, 202, 198, 198, 117, 195, 122, 325, 195, 400, 314, 314, 209]\n"
   ]
  },
  {
   "cell_type": "code",
   "execution_count": null,
   "metadata": {},
   "outputs": [],
   "source": [
    "x = 0\n",
    "for length in batch_lengths[:-2]:\n",
    "    test_periodicity = batch_periodicity[0, x:x + length]\n",
    "    plt.plot(torch.arange(x, x + length), test_periodicity)\n",
    "    x += length\n",
    "    plt.axvline(x)\n"
   ]
  },
  {
   "cell_type": "code",
   "execution_count": null,
   "metadata": {},
   "outputs": [],
   "source": []
  }
 ],
 "metadata": {
  "kernelspec": {
   "display_name": "env",
   "language": "python",
   "name": "python3"
  },
  "language_info": {
   "codemirror_mode": {
    "name": "ipython",
    "version": 3
   },
   "file_extension": ".py",
   "mimetype": "text/x-python",
   "name": "python",
   "nbconvert_exporter": "python",
   "pygments_lexer": "ipython3",
   "version": "3.9.17"
  }
 },
 "nbformat": 4,
 "nbformat_minor": 2
}
