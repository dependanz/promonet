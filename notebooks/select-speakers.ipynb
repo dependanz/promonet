{
 "cells": [
  {
   "cell_type": "code",
   "execution_count": null,
   "id": "fdd04fe0-72aa-4db3-a501-e95e07410b34",
   "metadata": {},
   "outputs": [],
   "source": [
    "%load_ext autoreload\n",
    "%autoreload 2"
   ]
  },
  {
   "cell_type": "code",
   "execution_count": null,
   "id": "ca6e9a33-b2e5-417b-a5ff-026320813e58",
   "metadata": {},
   "outputs": [],
   "source": [
    "import IPython.display as ipd\n",
    "import torchaudio\n",
    "\n",
    "import promonet"
   ]
  },
  {
   "cell_type": "code",
   "execution_count": null,
   "id": "855a1782-bcae-468e-a603-41f34e941fe4",
   "metadata": {},
   "outputs": [],
   "source": [
    "# Choose a dataset. One of promonet.DATASETS.\n",
    "dataset = 'daps'"
   ]
  },
  {
   "cell_type": "code",
   "execution_count": null,
   "id": "478fc78b-2f64-46fd-9db8-84a5855ccd32",
   "metadata": {},
   "outputs": [],
   "source": [
    "# Get total duration of each speaker in seconds\n",
    "directory = promonet.CACHE_DIR / dataset\n",
    "files = list(directory.glob('*.wav'))\n",
    "speakers = sorted(list(set(file.stem.split('-')[0] for file in files)))\n",
    "speaker_sizes = {speaker: 0. for speaker in speakers}\n",
    "for file in files:\n",
    "    info = torchaudio.info(file)\n",
    "    size = info.num_frames / info.sample_rate\n",
    "    speaker_sizes[file.stem.split('-')[0]] += size\n",
    "\n",
    "# Sort speakers and total durations in descending order of duration\n",
    "candidates = sorted(\n",
    "    speaker_sizes.items(),\n",
    "    key=lambda item: item[1],\n",
    "    reverse=True)"
   ]
  },
  {
   "cell_type": "code",
   "execution_count": null,
   "id": "bf113fac-89ad-4bd6-8985-8a4fd308bce5",
   "metadata": {},
   "outputs": [],
   "source": [
    "# Print speakers in descending order of duration for manual selection\n",
    "candidates"
   ]
  },
  {
   "cell_type": "code",
   "execution_count": null,
   "id": "b05ce6a6-a8cc-42bb-97c3-ec40f2244548",
   "metadata": {},
   "outputs": [],
   "source": [
    "# Listen to a sample audio file to check fidelity and gender\n",
    "for index, _ in sorted(candidates):\n",
    "    file = directory / f'{index}-000023.wav'\n",
    "    print(index)\n",
    "    ipd.display(ipd.Audio(file))"
   ]
  }
 ],
 "metadata": {
  "kernelspec": {
   "display_name": "Python 3 (ipykernel)",
   "language": "python",
   "name": "python3"
  },
  "language_info": {
   "codemirror_mode": {
    "name": "ipython",
    "version": 3
   },
   "file_extension": ".py",
   "mimetype": "text/x-python",
   "name": "python",
   "nbconvert_exporter": "python",
   "pygments_lexer": "ipython3",
   "version": "3.9.5"
  },
  "vscode": {
   "interpreter": {
    "hash": "e661ca2f247ba03d88bed293db733ca5edb23c05adbd6829a2eef4272a9ed78d"
   }
  }
 },
 "nbformat": 4,
 "nbformat_minor": 5
}
