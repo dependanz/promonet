{
 "cells": [
  {
   "cell_type": "code",
   "execution_count": 1,
   "id": "7f2ada4b-9c06-4c0e-b7ec-e479a9820001",
   "metadata": {},
   "outputs": [],
   "source": [
    "import pysodic, promonet, ppgs\n",
    "import torch, torchaudio"
   ]
  },
  {
   "cell_type": "code",
   "execution_count": 2,
   "id": "0df27093-ba3a-45d1-9833-8f1df663df8e",
   "metadata": {},
   "outputs": [],
   "source": [
    "partitions = promonet.load.partition('vctk')"
   ]
  },
  {
   "cell_type": "code",
   "execution_count": 3,
   "id": "033a83b4-159d-4b9d-a7b3-9f17e8a8db7e",
   "metadata": {},
   "outputs": [],
   "source": [
    "train_stems = partitions['train']\n",
    "valid_stems = partitions['valid']\n",
    "test_stems = partitions['test']"
   ]
  },
  {
   "cell_type": "code",
   "execution_count": 4,
   "id": "2e402d72-8ebe-4dbe-84eb-03ddc5fe3c39",
   "metadata": {},
   "outputs": [
    {
     "data": {
      "text/plain": [
       "88046"
      ]
     },
     "execution_count": 4,
     "metadata": {},
     "output_type": "execute_result"
    }
   ],
   "source": [
    "len(train_stems)"
   ]
  },
  {
   "cell_type": "code",
   "execution_count": 5,
   "id": "060384b0-cb7c-4f3c-8226-39a09353cac0",
   "metadata": {},
   "outputs": [
    {
     "data": {
      "text/plain": [
       "10"
      ]
     },
     "execution_count": 5,
     "metadata": {},
     "output_type": "execute_result"
    }
   ],
   "source": [
    "len(valid_stems)"
   ]
  },
  {
   "cell_type": "code",
   "execution_count": 6,
   "id": "e6ad700c-230c-49f4-ab35-903890177532",
   "metadata": {},
   "outputs": [
    {
     "data": {
      "text/plain": [
       "100"
      ]
     },
     "execution_count": 6,
     "metadata": {},
     "output_type": "execute_result"
    }
   ],
   "source": [
    "len(test_stems)"
   ]
  },
  {
   "cell_type": "code",
   "execution_count": 7,
   "id": "665c10d2-e54f-4746-bed0-a2ae912270aa",
   "metadata": {},
   "outputs": [
    {
     "data": {
      "text/plain": [
       "['0000/000001',\n",
       " '0000/000002',\n",
       " '0000/000003',\n",
       " '0000/000004',\n",
       " '0000/000005',\n",
       " '0000/000006',\n",
       " '0000/000007',\n",
       " '0000/000008',\n",
       " '0000/000009',\n",
       " '0000/000010']"
      ]
     },
     "execution_count": 7,
     "metadata": {},
     "output_type": "execute_result"
    }
   ],
   "source": [
    "train_stems[:10]"
   ]
  },
  {
   "cell_type": "code",
   "execution_count": 19,
   "id": "fac2a5ea-2af1-4d78-b018-81d4d9554a73",
   "metadata": {
    "scrolled": true
   },
   "outputs": [
    {
     "name": "stdout",
     "output_type": "stream",
     "text": [
      "[('0013/000036', tensor(139.0261)), ('0013/000042', tensor(156.0642)), ('0013/000048', tensor(152.7109)), ('0013/000191', tensor(221.6665)), ('0013/000194', tensor(141.0537)), ('0013/000495', tensor(267.4380)), ('0013/000504', tensor(145.3192)), ('0013/000945', tensor(206.3835)), ('0013/000976', tensor(338.9826)), ('0016/000024', tensor(219.9603)), ('0016/000031', tensor(294.8272)), ('0016/000041', tensor(191.5718)), ('0016/000063', tensor(185.3292)), ('0016/000153', tensor(180.5911)), ('0016/000348', tensor(174.4934)), ('0016/000445', tensor(301.6046)), ('0016/000681', tensor(263.2807)), ('0016/000691', tensor(181.6338)), ('0016/000784', tensor(184.2550)), ('0032/000014', tensor(225.5664)), ('0032/000024', tensor(190.7802)), ('0032/000043', tensor(268.8856)), ('0032/000130', tensor(178.3879)), ('0032/000239', tensor(186.2066)), ('0032/000443', tensor(186.1229)), ('0032/000556', tensor(173.6062)), ('0032/000617', tensor(368.9778)), ('0032/000618', tensor(267.3261)), ('0032/000914', tensor(177.6118)), ('0037/000012', tensor(176.7195)), ('0037/000027', tensor(181.8244)), ('0037/000529', tensor(238.3282)), ('0037/000530', tensor(144.4718)), ('0037/000581', tensor(381.1475)), ('0037/000653', tensor(226.5501)), ('0037/000705', tensor(261.9291)), ('0037/000739', tensor(174.8383)), ('0037/000897', tensor(165.8031)), ('0037/000931', tensor(147.8751)), ('0047/000006', tensor(209.9472)), ('0047/000030', tensor(203.3645)), ('0047/000037', tensor(226.3944)), ('0047/000046', tensor(197.5112)), ('0047/000335', tensor(214.4806)), ('0047/000451', tensor(191.9415)), ('0047/000539', tensor(197.8897)), ('0047/000626', tensor(203.4101)), ('0047/000854', tensor(205.4269)), ('0047/000871', tensor(201.5559)), ('0070/000073', tensor(128.2625)), ('0070/000094', tensor(100.9381)), ('0070/000154', tensor(145.7823)), ('0070/000163', tensor(319.2084)), ('0070/000241', tensor(390.4046)), ('0070/000276', tensor(177.3421)), ('0070/000299', tensor(131.4508)), ('0070/000454', tensor(136.5359)), ('0070/000601', tensor(187.7096)), ('0070/000751', tensor(139.5978)), ('0073/000007', tensor(264.7979)), ('0073/000015', tensor(435.1299)), ('0073/000030', tensor(248.6693)), ('0073/000031', tensor(245.5057)), ('0073/000036', tensor(292.5506)), ('0073/000043', tensor(440.9016)), ('0073/000081', tensor(294.5530)), ('0073/000086', tensor(211.7217)), ('0073/000707', tensor(201.8165)), ('0073/000828', tensor(214.3835)), ('0082/000021', tensor(299.2649)), ('0082/000067', tensor(140.8447)), ('0082/000237', tensor(146.1840)), ('0082/000342', tensor(186.1264)), ('0082/000485', tensor(381.2978)), ('0082/000486', tensor(249.6474)), ('0082/000504', tensor(221.0768)), ('0082/000545', tensor(207.1021)), ('0082/000568', tensor(292.6125)), ('0082/000679', tensor(159.9960)), ('0083/000009', tensor(278.1069)), ('0083/000071', tensor(341.1121)), ('0083/000187', tensor(239.2236)), ('0083/000273', tensor(288.2172)), ('0083/000281', tensor(436.1069)), ('0083/000297', tensor(202.1592)), ('0083/000451', tensor(389.2785)), ('0083/000460', tensor(211.9283)), ('0083/000507', tensor(248.9182)), ('0083/000700', tensor(288.9590)), ('0108/000017', tensor(194.0423)), ('0108/000022', tensor(159.3242)), ('0108/000121', tensor(244.3481)), ('0108/000249', tensor(211.9306)), ('0108/000330', tensor(287.8996)), ('0108/000433', tensor(206.5533)), ('0108/000503', tensor(257.6314)), ('0108/000585', tensor(209.1516)), ('0108/000629', tensor(244.0786)), ('0108/000672', tensor(226.1009))]\n"
     ]
    }
   ],
   "source": [
    "broken_files = []\n",
    "# manual loading and feature inference aparatus\n",
    "\n",
    "for stem in test_stems:\n",
    "# for stem in ['0037/000394']:\n",
    "    cache_dir = promonet.CACHE_DIR / 'vctk'\n",
    "    \n",
    "    speaker_id = stem.split('/')[0]\n",
    "    \n",
    "    audio_file = cache_dir / f'{stem}-100.wav'\n",
    "    assert audio_file.exists()\n",
    "    \n",
    "    audio, sample_rate = torchaudio.load(audio_file)\n",
    "    \n",
    "    pitch_file = cache_dir / f'{stem}-100-pitch.pt'\n",
    "    assert pitch_file.exists()\n",
    "    loaded_pitch = torch.load(pitch_file)\n",
    "    \n",
    "    ppg_file = cache_dir / f'{stem}-100-w2v2fb-ppg.pt'\n",
    "    assert ppg_file.exists()\n",
    "    loaded_ppg = torch.load(ppg_file)\n",
    "    \n",
    "    manual_pitch, _, _, _ = pysodic.from_file(\n",
    "        audio_file,\n",
    "        hopsize=promonet.HOPSIZE / promonet.SAMPLE_RATE,\n",
    "        window_size=promonet.WINDOW_SIZE / promonet.SAMPLE_RATE,\n",
    "        voicing_threshold=0.125,\n",
    "        gpu=0\n",
    "    )\n",
    "    \n",
    "    sup_distance = torch.abs(loaded_pitch - manual_pitch.cpu()).max()\n",
    "\n",
    "    if sup_distance > 2:\n",
    "        broken_files.append((stem, sup_distance))\n",
    "        diff = torch.abs(loaded_pitch - manual_pitch.cpu())\n",
    "\n",
    "        # print(torch.topk(diff, 10), loaded_pitch.shape[-1])\n",
    "        \n",
    "print(broken_files)\n",
    "# print(len(broken_files) / len(test_stems))"
   ]
  },
  {
   "cell_type": "code",
   "execution_count": null,
   "id": "e7a5e85f-287a-49e9-ae7d-e10c76849c5c",
   "metadata": {},
   "outputs": [],
   "source": []
  },
  {
   "cell_type": "code",
   "execution_count": 70,
   "id": "61cd9a09-654c-491f-ba7b-612a89b56f48",
   "metadata": {},
   "outputs": [
    {
     "data": {
      "text/plain": [
       "88046"
      ]
     },
     "execution_count": 70,
     "metadata": {},
     "output_type": "execute_result"
    }
   ],
   "source": [
    "len(train_stems)"
   ]
  },
  {
   "cell_type": "code",
   "execution_count": 13,
   "id": "9d947b83-2169-48e8-8502-bf65a517e9df",
   "metadata": {},
   "outputs": [
    {
     "data": {
      "text/plain": [
       "[('0013/000024', tensor(126.7389)),\n",
       " ('0013/000036', tensor(113.2947)),\n",
       " ('0013/000495', tensor(81.2340)),\n",
       " ('0016/000041', tensor(198.5778)),\n",
       " ('0016/000063', tensor(3.7601)),\n",
       " ('0016/000348', tensor(141.4771)),\n",
       " ('0016/000681', tensor(177.3246)),\n",
       " ('0016/000784', tensor(14.6488)),\n",
       " ('0032/000043', tensor(141.7732)),\n",
       " ('0032/000130', tensor(157.2245)),\n",
       " ('0032/000556', tensor(171.3055)),\n",
       " ('0032/000618', tensor(126.4817)),\n",
       " ('0047/000037', tensor(101.7810)),\n",
       " ('0047/000451', tensor(156.7541)),\n",
       " ('0047/000854', tensor(117.8595)),\n",
       " ('0070/000276', tensor(182.0158)),\n",
       " ('0073/000007', tensor(75.0570)),\n",
       " ('0073/000036', tensor(149.0208)),\n",
       " ('0073/000043', tensor(7.2153)),\n",
       " ('0073/000081', tensor(82.2148)),\n",
       " ('0082/000237', tensor(339.0691)),\n",
       " ('0082/000485', tensor(93.9035)),\n",
       " ('0082/000504', tensor(98.7460)),\n",
       " ('0082/000545', tensor(133.1680)),\n",
       " ('0082/000679', tensor(52.6324)),\n",
       " ('0083/000700', tensor(169.2577)),\n",
       " ('0108/000022', tensor(129.0285)),\n",
       " ('0108/000249', tensor(120.8342))]"
      ]
     },
     "execution_count": 13,
     "metadata": {},
     "output_type": "execute_result"
    }
   ],
   "source": [
    "broken_files"
   ]
  },
  {
   "cell_type": "code",
   "execution_count": 14,
   "id": "543520cd-5116-47c8-a394-a934fe19a66e",
   "metadata": {},
   "outputs": [
    {
     "data": {
      "text/plain": [
       "28"
      ]
     },
     "execution_count": 14,
     "metadata": {},
     "output_type": "execute_result"
    }
   ],
   "source": [
    "len(broken_files)"
   ]
  },
  {
   "cell_type": "code",
   "execution_count": 9,
   "id": "fee77489-4245-491b-98de-a50637fd6689",
   "metadata": {},
   "outputs": [],
   "source": [
    "from_file_vars = {'audio_file': '/repos/promonet/data/cache/vctk/0037/000394-100.wav', 'text_file': None, 'hopsize': 0.011609977324263039, 'window_size': 0.046439909297052155, 'voicing_threshold': 0.0, 'gpu': 0}\n",
    "from_file_manual_vars = {'audio_file': '/repos/promonet/data/cache/vctk/0037/000394-100.wav', 'text_file': None, 'hopsize': 0.011609977324263039, 'window_size': 0.046439909297052155, 'voicing_threshold': 0.0, 'gpu': None,}"
   ]
  },
  {
   "cell_type": "code",
   "execution_count": null,
   "id": "45580edb-bb69-4ebd-94ea-8e035ebb3f92",
   "metadata": {},
   "outputs": [],
   "source": []
  }
 ],
 "metadata": {
  "kernelspec": {
   "display_name": "Python 3 (ipykernel)",
   "language": "python",
   "name": "python3"
  },
  "language_info": {
   "codemirror_mode": {
    "name": "ipython",
    "version": 3
   },
   "file_extension": ".py",
   "mimetype": "text/x-python",
   "name": "python",
   "nbconvert_exporter": "python",
   "pygments_lexer": "ipython3",
   "version": "3.10.12"
  }
 },
 "nbformat": 4,
 "nbformat_minor": 5
}
