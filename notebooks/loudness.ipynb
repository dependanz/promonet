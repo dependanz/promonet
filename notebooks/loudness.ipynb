{
 "cells": [
  {
   "cell_type": "code",
   "execution_count": null,
   "id": "f72d045b-f6d9-4552-9417-b6d5c38d1872",
   "metadata": {},
   "outputs": [],
   "source": [
    "%load_ext autoreload\n",
    "%autoreload 2"
   ]
  },
  {
   "cell_type": "code",
   "execution_count": null,
   "id": "36e3aaf3-6365-4b82-9b5f-aaff15330dd4",
   "metadata": {},
   "outputs": [],
   "source": [
    "import random\n",
    "from pathlib import Path\n",
    "\n",
    "import IPython.display as ipd\n",
    "import matplotlib.pyplot as plt\n",
    "import numpy as np\n",
    "import torch\n",
    "import torchaudio\n",
    "\n",
    "import promonet"
   ]
  },
  {
   "cell_type": "markdown",
   "id": "1e1f3fa0-f5f0-406d-ae4d-cfa544c1887e",
   "metadata": {},
   "source": [
    "### Perceptual loudness analysis"
   ]
  },
  {
   "cell_type": "code",
   "execution_count": null,
   "id": "5df08d4b-1dd0-48d1-82a5-9a9a3c25a9e3",
   "metadata": {},
   "outputs": [],
   "source": [
    "# Get all relevant evaluation files\n",
    "original_audio_files = sorted(list((promonet.EVAL_DIR / 'subjective' / 'original').glob('vctk-*-original-100.wav')))\n",
    "original_loudness_files = [promonet.EVAL_DIR / 'objective' / 'original' / f'{file.stem}-loudness.pt' for file in original_audio_files]\n",
    "reconstructed_audio_files = sorted(list((promonet.EVAL_DIR / 'subjective' / 'promonet').glob('vctk-*-original-100.wav')))\n",
    "reconstructed_loudness_files = [promonet.EVAL_DIR / 'objective' / 'promonet' / f'{file.stem}-loudness.pt' for file in original_audio_files]\n",
    "ratio_050_audio_files = [promonet.EVAL_DIR / 'subjective' / 'promonet' / file.name.replace('original-100', 'loudness-050') for file in original_audio_files]\n",
    "ratio_050_loudness_files = [promonet.EVAL_DIR / 'objective' / 'promonet' / f'{file.stem.replace(\"original-100\", \"loudness-050\")}-loudness.pt' for file in original_audio_files]\n",
    "ratio_200_audio_files = [promonet.EVAL_DIR / 'subjective' / 'promonet' / file.name.replace('original-100', 'loudness-200') for file in original_audio_files]\n",
    "ratio_200_loudness_files = [promonet.EVAL_DIR / 'objective' / 'promonet' / f'{file.stem.replace(\"original-100\", \"loudness-200\")}-loudness.pt' for file in original_audio_files]\n",
    "framewise_050_audio_files = [promonet.EVAL_DIR / 'subjective' / 'promonet' / file.name.replace('original-100', 'scaled-050') for file in original_audio_files]\n",
    "framewise_050_loudness_files = [promonet.EVAL_DIR / 'objective' / 'promonet' / f'{file.stem.replace(\"original-100\", \"scaled-050\")}-loudness.pt' for file in original_audio_files]\n",
    "framewise_200_audio_files = [promonet.EVAL_DIR / 'subjective' / 'promonet' / file.name.replace('original-100', 'scaled-200') for file in original_audio_files]\n",
    "framewise_200_loudness_files = [promonet.EVAL_DIR / 'objective' / 'promonet' / f'{file.stem.replace(\"original-100\", \"scaled-200\")}-loudness.pt' for file in original_audio_files]\n",
    "# ablate_050_audio_files = [promonet.EVAL_DIR / 'subjective' / 'ablate-augment' / file.name.replace('original-100', 'scaled-050') for file in original_audio_files]\n",
    "# ablate_050_loudness_files = [promonet.EVAL_DIR / 'objective' / 'ablate-augment' / f'{file.stem.replace(\"original-100\", \"scaled-050\")}-loudness.pt' for file in original_audio_files]\n",
    "# ablate_200_audio_files = [promonet.EVAL_DIR / 'subjective' / 'ablate-augment' / file.name.replace('original-100', 'scaled-200') for file in original_audio_files]\n",
    "# ablate_200_loudness_files = [promonet.EVAL_DIR / 'objective' / 'ablate-augment' / f'{file.stem.replace(\"original-100\", \"scaled-200\")}-loudness.pt' for file in original_audio_files]"
   ]
  },
  {
   "cell_type": "code",
   "execution_count": null,
   "id": "719f3ded-3e26-4af9-a72a-3742c7952a3e",
   "metadata": {},
   "outputs": [],
   "source": [
    "# Get random example\n",
    "index = random.randint(0, len(original_audio_files))"
   ]
  },
  {
   "cell_type": "code",
   "execution_count": null,
   "id": "af8eac63-6f21-43cc-bdca-c6b9caea3065",
   "metadata": {},
   "outputs": [],
   "source": [
    "# Load files\n",
    "original_audio = promonet.load.audio(original_audio_files[index])\n",
    "original_loudness = promonet.loudness.band_average(torch.load(original_loudness_files[index]), 1)\n",
    "reconstructed_audio = promonet.load.audio(reconstructed_audio_files[index])\n",
    "reconstructed_loudness = promonet.loudness.band_average(torch.load(reconstructed_loudness_files[index]), 1)\n",
    "ratio_050_audio = promonet.load.audio(ratio_050_audio_files[index])\n",
    "ratio_050_loudness = promonet.loudness.band_average(torch.load(ratio_050_loudness_files[index]), 1)\n",
    "ratio_200_audio = promonet.load.audio(ratio_200_audio_files[index])\n",
    "ratio_200_loudness = promonet.loudness.band_average(torch.load(ratio_200_loudness_files[index]), 1)\n",
    "framewise_050_audio = promonet.load.audio(framewise_050_audio_files[index])\n",
    "framewise_050_loudness = promonet.loudness.band_average(torch.load(framewise_050_loudness_files[index]), 1)\n",
    "framewise_200_audio = promonet.load.audio(framewise_200_audio_files[index])\n",
    "framewise_200_loudness = promonet.loudness.band_average(torch.load(framewise_200_loudness_files[index]), 1)\n",
    "# ablate_050_audio = promonet.load.audio(ablate_050_audio_files[index])\n",
    "# ablate_050_loudness = promonet.loudness.band_average(torch.load(ablate_050_loudness_files[index]), 1)\n",
    "# ablate_200_audio = promonet.load.audio(ablate_200_audio_files[index])\n",
    "# ablate_200_loudness = promonet.loudness.band_average(torch.load(ablate_200_loudness_files[index]), 1)"
   ]
  },
  {
   "cell_type": "code",
   "execution_count": null,
   "id": "1f96d312-a1c8-4d5e-85b2-63fc7d0690d9",
   "metadata": {},
   "outputs": [],
   "source": [
    "print(original_audio_files[index])"
   ]
  },
  {
   "cell_type": "code",
   "execution_count": null,
   "id": "1e07b622-f9e7-4db1-b9b0-140acdb58e58",
   "metadata": {},
   "outputs": [],
   "source": [
    "# Listen\n",
    "ipd.display(ipd.Audio(original_audio, rate=promonet.SAMPLE_RATE))\n",
    "ipd.display(ipd.Audio(reconstructed_audio, rate=promonet.SAMPLE_RATE))\n",
    "ipd.display(ipd.Audio(ratio_050_audio, rate=promonet.SAMPLE_RATE))\n",
    "ipd.display(ipd.Audio(ratio_200_audio, rate=promonet.SAMPLE_RATE))\n",
    "ipd.display(ipd.Audio(framewise_050_audio, rate=promonet.SAMPLE_RATE))\n",
    "ipd.display(ipd.Audio(framewise_200_audio, rate=promonet.SAMPLE_RATE))\n",
    "# ipd.display(ipd.Audio(ablate_050_audio, rate=promonet.SAMPLE_RATE))\n",
    "# ipd.display(ipd.Audio(ablate_200_audio, rate=promonet.SAMPLE_RATE))"
   ]
  },
  {
   "cell_type": "code",
   "execution_count": null,
   "id": "5f33f636-250b-45df-84b6-afe99649f25d",
   "metadata": {},
   "outputs": [],
   "source": [
    "# Plot loudness\n",
    "plt.figure(figsize=(12, 4))\n",
    "times = np.linspace(\n",
    "    0,\n",
    "    promonet.convert.frames_to_seconds(original_loudness.shape[-1]),\n",
    "    original_loudness.shape[-1])\n",
    "plt.plot(times, original_loudness.squeeze(), label='Original')\n",
    "plt.plot(times, reconstructed_loudness.squeeze(), label='Reconstructed')\n",
    "# plt.plot(ratio_050_loudness.squeeze(), label=f'ratio_050 {ratio_050_loudness.mean():.03f}')\n",
    "# plt.plot(ratio_200_loudness.squeeze(), label=f'ratio_200 {ratio_200_loudness.mean():.03f}')\n",
    "# plt.plot(framewise_050_loudness.squeeze(), label=f'framewise_050 {framewise_050_loudness.mean():.03f}')\n",
    "# plt.plot(framewise_200_loudness.squeeze(), label=f'framewise_200 {framewise_200_loudness.mean():.03f}')\n",
    "# plt.plot(ablate_050_loudness.squeeze(), label=f'ablate_050 {ablate_050_loudness.mean():.03f}')\n",
    "# plt.plot(ablate_200_loudness.squeeze(), label=f'ablate_200 {ablate_200_loudness.mean():.03f}')\n",
    "plt.xlabel('Time (seconds)', fontsize=14)\n",
    "plt.ylabel('Loudness (dBA)', fontsize=14)\n",
    "plt.margins(.01)\n",
    "for spine in plt.gca().spines.values():\n",
    "    spine.set_visible(False)\n",
    "yticks = [-70, -60, -50, -40, -30]\n",
    "plt.yticks(yticks)\n",
    "for tick in yticks:\n",
    "    plt.hlines(tick, xmin=0., xmax=times[-1], color='#aaaa', linestyle='--')\n",
    "plt.tick_params(\n",
    "    axis='y',\n",
    "    which='both',\n",
    "    bottom=False,\n",
    "    top=False,\n",
    "    labelbottom=False,\n",
    "    pad=0,\n",
    "    length=0)\n",
    "plt.legend(frameon=False, fontsize=12)\n",
    "plt.savefig('noise-floor.pdf', bbox_inches='tight', pad_inches=.1)\n",
    "plt.savefig('noise-floor.png', bbox_inches='tight', pad_inches=.1, transparent=True)"
   ]
  },
  {
   "cell_type": "code",
   "execution_count": null,
   "id": "6bf86a64-7119-49e6-9535-71818123f3d5",
   "metadata": {},
   "outputs": [],
   "source": [
    "# Compute gain of all examples\n",
    "reconstructed_gain = original_loudness - reconstructed_loudness\n",
    "ratio_050_gain = original_loudness - ratio_050_loudness\n",
    "ratio_200_gain = original_loudness - ratio_200_loudness\n",
    "framewise_050_gain = original_loudness - framewise_050_loudness\n",
    "framewise_200_gain = original_loudness - framewise_200_loudness\n",
    "# ablate_050_gain = original_loudness - ablate_050_loudness\n",
    "# ablate_200_gain = original_loudness - ablate_200_loudness\n",
    "plt.figure(figsize=(12, 12))\n",
    "plt.plot(reconstructed_gain.squeeze(), label='reconstructed')\n",
    "plt.plot(ratio_050_gain.squeeze(), label='ratio_050')\n",
    "plt.plot(ratio_200_gain.squeeze(), label='ratio_200')\n",
    "plt.plot(framewise_050_gain.squeeze(), label='framewise_050')\n",
    "plt.plot(framewise_200_gain.squeeze(), label='framewise_200')\n",
    "# plt.plot(ablate_050_gain.squeeze(), label='ablate_050')\n",
    "# plt.plot(ablate_200_gain.squeeze(), label='ablate_200')\n",
    "plt.legend()"
   ]
  },
  {
   "cell_type": "code",
   "execution_count": null,
   "id": "bb29a325-de0e-4358-8020-8a904a5a9566",
   "metadata": {},
   "outputs": [],
   "source": [
    "# Normalize all predicted audio to same volume as original\n",
    "reconstructed_norm = promonet.loudness.limit(promonet.loudness.shift(reconstructed_audio, reconstructed_gain))\n",
    "ratio_050_norm = promonet.loudness.limit(promonet.loudness.shift(ratio_050_audio, ratio_050_gain))\n",
    "ratio_200_norm = promonet.loudness.limit(promonet.loudness.shift(ratio_200_audio, ratio_200_gain))\n",
    "framewise_050_norm = promonet.loudness.limit(promonet.loudness.shift(framewise_050_audio, framewise_050_gain))\n",
    "framewise_200_norm = promonet.loudness.limit(promonet.loudness.shift(framewise_200_audio, framewise_200_gain))\n",
    "# ablate_050_norm = promonet.loudness.limit(promonet.loudness.shift(ablate_050_audio, ablate_050_gain))\n",
    "# ablate_200_norm = promonet.loudness.limit(promonet.loudness.shift(ablate_200_audio, ablate_200_gain))\n",
    "ipd.display(ipd.Audio(original_audio, rate=promonet.SAMPLE_RATE))\n",
    "ipd.display(ipd.Audio(reconstructed_norm, rate=promonet.SAMPLE_RATE))\n",
    "ipd.display(ipd.Audio(ratio_050_norm, rate=promonet.SAMPLE_RATE))\n",
    "ipd.display(ipd.Audio(ratio_200_norm, rate=promonet.SAMPLE_RATE))\n",
    "ipd.display(ipd.Audio(framewise_050_norm, rate=promonet.SAMPLE_RATE))\n",
    "ipd.display(ipd.Audio(framewise_200_norm, rate=promonet.SAMPLE_RATE))\n",
    "# ipd.display(ipd.Audio(ablate_050_norm, rate=promonet.SAMPLE_RATE))\n",
    "# ipd.display(ipd.Audio(ablate_200_norm, rate=promonet.SAMPLE_RATE))"
   ]
  },
  {
   "cell_type": "code",
   "execution_count": null,
   "id": "44d7c031-b2ee-47a0-829c-439957152bd6",
   "metadata": {},
   "outputs": [],
   "source": [
    "# Validate that the volume is the same\n",
    "plt.figure(figsize=(12, 12))\n",
    "validation_loudness = promonet.loudness.from_audio(original_audio).squeeze()\n",
    "plt.plot(validation_loudness, label=f'validation {validation_loudness.mean():.03f}')\n",
    "reconstructed_norm_loudness = promonet.loudness.from_audio(reconstructed_norm).squeeze()\n",
    "plt.plot(reconstructed_norm_loudness, label=f'reconstructed_norm {reconstructed_norm_loudness.mean():.03f}')\n",
    "# ratio_050_norm_loudness = promonet.loudness.from_audio(ratio_050_norm).squeeze()\n",
    "# plt.plot(ratio_050_norm_loudness, label=f'ratio_050_norm {ratio_050_norm_loudness.mean():.03f}')\n",
    "# ratio_200_norm_loudness = promonet.loudness.from_audio(ratio_200_norm).squeeze()\n",
    "# plt.plot(ratio_200_norm_loudness, label=f'ratio_200_norm {ratio_200_norm_loudness.mean():.03f}')\n",
    "framewise_050_norm_loudness = promonet.loudness.from_audio(framewise_050_norm).squeeze()\n",
    "plt.plot(framewise_050_norm_loudness, label=f'framewise_050_norm {framewise_050_norm_loudness.mean():.03f}')\n",
    "framewise_200_norm_loudness = promonet.loudness.from_audio(framewise_200_norm).squeeze()\n",
    "plt.plot(framewise_200_norm_loudness, label=f'framewise_200_norm {framewise_200_norm_loudness.mean():.03f}')\n",
    "# ablate_050_norm_loudness = promonet.loudness.from_audio(ablate_050_norm).squeeze()\n",
    "# plt.plot(ablate_050_norm_loudness, label=f'ablate_050_norm {ablate_050_norm_loudness.mean():.03f}')\n",
    "# ablate_200_norm_loudness = promonet.loudness.from_audio(ablate_200_norm).squeeze()\n",
    "# plt.plot(ablate_200_norm_loudness, label=f'ablate_200_norm {ablate_200_norm_loudness.mean():.03f}')\n",
    "plt.legend()"
   ]
  },
  {
   "cell_type": "code",
   "execution_count": null,
   "id": "5cdc4230-e3d8-4dc1-bb92-e6fe519cd64b",
   "metadata": {},
   "outputs": [],
   "source": [
    "# Make subjective evaluation files\n",
    "output_directory = Path('/hemera-storage1/pardo/max/results/promonet/promonet-subjective/loudness/')\n",
    "\n",
    "for audio_file, loudness_file in zip(framewise_050_audio_files, framewise_050_loudness_files):\n",
    "    original_audio = promonet.load.audio(\n",
    "        promonet.EVAL_DIR / \n",
    "        'subjective' / \n",
    "        'original' /\n",
    "        audio_file.name.replace(\"scaled-050\", \"original-100\"))\n",
    "    original_loudness = promonet.loudness.band_average(\n",
    "        torch.load(\n",
    "            promonet.EVAL_DIR /\n",
    "            'objective' /\n",
    "            'original' /\n",
    "            loudness_file.name.replace(\"scaled-050\", \"original-100\")),\n",
    "        1)\n",
    "    audio = promonet.load.audio(audio_file)\n",
    "    loudness = promonet.loudness.band_average(torch.load(loudness_file), 1)\n",
    "    gain = original_loudness - loudness\n",
    "    norm = promonet.loudness.limit(promonet.loudness.shift(audio, gain))\n",
    "    torchaudio.save(output_directory / 'promonet' / audio_file.name, norm, promonet.SAMPLE_RATE)\n",
    "    torchaudio.save(output_directory / 'original' / audio_file.name, original_audio, promonet.SAMPLE_RATE)\n",
    "\n",
    "for audio_file, loudness_file in zip(framewise_200_audio_files, framewise_200_loudness_files):\n",
    "    original_audio = promonet.load.audio(\n",
    "        promonet.EVAL_DIR / \n",
    "        'subjective' / \n",
    "        'original' /\n",
    "        audio_file.name.replace(\"scaled-200\", \"original-100\"))\n",
    "    original_loudness = promonet.loudness.band_average(\n",
    "        torch.load(\n",
    "            promonet.EVAL_DIR /\n",
    "            'objective' /\n",
    "            'original' /\n",
    "            loudness_file.name.replace(\"scaled-200\", \"original-100\")),\n",
    "        1)\n",
    "    audio = promonet.load.audio(audio_file)\n",
    "    loudness = promonet.loudness.band_average(torch.load(loudness_file), 1)\n",
    "    gain = original_loudness - loudness\n",
    "    norm = promonet.loudness.limit(promonet.loudness.shift(audio, gain))\n",
    "    torchaudio.save(output_directory / 'promonet' / audio_file.name, norm, promonet.SAMPLE_RATE)\n",
    "    torchaudio.save(output_directory / 'original' / audio_file.name, original_audio, promonet.SAMPLE_RATE)"
   ]
  },
  {
   "cell_type": "code",
   "execution_count": null,
   "id": "ff97d01d-ed4a-4e95-a88e-b93528c7cdcf",
   "metadata": {},
   "outputs": [],
   "source": []
  }
 ],
 "metadata": {
  "kernelspec": {
   "display_name": "promonet",
   "language": "python",
   "name": "promonet"
  },
  "language_info": {
   "codemirror_mode": {
    "name": "ipython",
    "version": 3
   },
   "file_extension": ".py",
   "mimetype": "text/x-python",
   "name": "python",
   "nbconvert_exporter": "python",
   "pygments_lexer": "ipython3",
   "version": "3.10.13"
  }
 },
 "nbformat": 4,
 "nbformat_minor": 5
}
