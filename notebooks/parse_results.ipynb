{
 "cells": [
  {
   "cell_type": "code",
   "execution_count": 1,
   "id": "37044920-d03d-48fd-ba8e-bfbc648b912a",
   "metadata": {},
   "outputs": [],
   "source": [
    "%load_ext autoreload\n",
    "%autoreload 2"
   ]
  },
  {
   "cell_type": "code",
   "execution_count": 2,
   "id": "b9499e03-9923-4c5f-8122-0c078281bcce",
   "metadata": {},
   "outputs": [
    {
     "name": "stderr",
     "output_type": "stream",
     "text": [
      "/home/mrm5248/micromamba/envs/promonet/lib/python3.10/site-packages/tqdm/auto.py:21: TqdmWarning: IProgress not found. Please update jupyter and ipywidgets. See https://ipywidgets.readthedocs.io/en/stable/user_install.html\n",
      "  from .autonotebook import tqdm as notebook_tqdm\n"
     ]
    }
   ],
   "source": [
    "import json\n",
    "from pathlib import Path\n",
    "\n",
    "import IPython.display as ipd\n",
    "import torch\n",
    "\n",
    "import promonet"
   ]
  },
  {
   "cell_type": "code",
   "execution_count": 70,
   "id": "79abb39c-7907-4dcf-a308-6f72fd807f28",
   "metadata": {},
   "outputs": [],
   "source": [
    "# Conditions to consider\n",
    "conditions = [\n",
    "    'base',\n",
    "    # 'ablate-augment',\n",
    "    # 'ablate-multiloud',\n",
    "    # 'ablate-sppg',\n",
    "    # 'ablate-variable-pitch',\n",
    "    # 'ablate-viterbi',\n",
    "    # 'mels',\n",
    "    # 'mels-ours',\n",
    "    'psola',\n",
    "    'world'\n",
    "]\n",
    "edits = [\n",
    "    # 'reconstructed-100',\n",
    "    # 'scaled-071',\n",
    "    # 'scaled-141',\n",
    "    'shifted-071',\n",
    "    'shifted-141',\n",
    "    # 'stretched-071',\n",
    "    # 'stretched-141'\n",
    "]\n",
    "metrics = [\n",
    "    'pitch',\n",
    "    'periodicity',\n",
    "    'loudness',\n",
    "    'ppg',\n",
    "    'wer',\n",
    "    'speaker_similarity',\n",
    "    'formant-average',\n",
    "]"
   ]
  },
  {
   "cell_type": "markdown",
   "id": "db775fd1-bdb6-463a-87e5-ceec528d1b5d",
   "metadata": {},
   "source": [
    "## Parse objective results on a set of conditions"
   ]
  },
  {
   "cell_type": "code",
   "execution_count": 71,
   "id": "241788e2-3336-4982-aadb-ede2c45617f0",
   "metadata": {},
   "outputs": [],
   "source": [
    "def parse_results(conditions, edits, metric, dataset):\n",
    "    results = {condition: {} for condition in conditions}\n",
    "    for condition in conditions:\n",
    "        with open(f'/repos/promonet/results/{condition}/{dataset}/results.json') as file:\n",
    "            for edit, metrics in json.load(file).items():\n",
    "                if edit not in edits:\n",
    "                    continue\n",
    "                # print(edit, json.dumps(metrics, indent=4, sort_keys=True))\n",
    "                try:\n",
    "                    results[condition][edit] = metrics[metric]\n",
    "                except KeyError:\n",
    "                    pass\n",
    "    for condition in conditions:\n",
    "        values = list(results[condition].values())\n",
    "        results[condition]['average'] = sum(values) / len(values)\n",
    "    print(\n",
    "        json.dumps(\n",
    "            {condition: results[condition]['average'] for condition in conditions},\n",
    "            indent=4,\n",
    "            sort_keys=True))\n"
   ]
  },
  {
   "cell_type": "code",
   "execution_count": 72,
   "id": "6646534a-1961-42b8-9640-847093b82e3b",
   "metadata": {},
   "outputs": [
    {
     "name": "stdout",
     "output_type": "stream",
     "text": [
      "pitch\n",
      "{\n",
      "    \"base\": 22.47694954276085,\n",
      "    \"psola\": 21.637411415576935,\n",
      "    \"world\": 16.645088978111744\n",
      "}\n",
      "periodicity\n",
      "{\n",
      "    \"base\": 0.08970813108900742,\n",
      "    \"psola\": 0.11457670857423691,\n",
      "    \"world\": 0.13748958280400075\n",
      "}\n",
      "loudness\n",
      "{\n",
      "    \"base\": 2.1688455637299335,\n",
      "    \"psola\": 1.664705951320713,\n",
      "    \"world\": 1.932305153301618\n",
      "}\n",
      "ppg\n",
      "{\n",
      "    \"base\": 0.13720866292715073,\n",
      "    \"psola\": 0.10912970080971718,\n",
      "    \"world\": 0.2705831900238991\n",
      "}\n",
      "wer\n",
      "{\n",
      "    \"base\": 0.023517733439803123,\n",
      "    \"psola\": 0.005624999990686774,\n",
      "    \"world\": 0.005543831503018737\n",
      "}\n",
      "speaker_similarity\n",
      "{\n",
      "    \"base\": 0.7259168028831482,\n",
      "    \"psola\": 0.7796521186828613,\n",
      "    \"world\": 0.6680735647678375\n",
      "}\n",
      "formant-average\n"
     ]
    },
    {
     "ename": "ZeroDivisionError",
     "evalue": "division by zero",
     "output_type": "error",
     "traceback": [
      "\u001b[0;31m---------------------------------------------------------------------------\u001b[0m",
      "\u001b[0;31mZeroDivisionError\u001b[0m                         Traceback (most recent call last)",
      "Cell \u001b[0;32mIn[72], line 3\u001b[0m\n\u001b[1;32m      1\u001b[0m \u001b[38;5;28;01mfor\u001b[39;00m metric \u001b[38;5;129;01min\u001b[39;00m metrics:\n\u001b[1;32m      2\u001b[0m     \u001b[38;5;28mprint\u001b[39m(metric)\n\u001b[0;32m----> 3\u001b[0m     \u001b[43mparse_results\u001b[49m\u001b[43m(\u001b[49m\u001b[43mconditions\u001b[49m\u001b[43m,\u001b[49m\u001b[43m \u001b[49m\u001b[43medits\u001b[49m\u001b[43m,\u001b[49m\u001b[43m \u001b[49m\u001b[43mmetric\u001b[49m\u001b[43m,\u001b[49m\u001b[43m \u001b[49m\u001b[38;5;124;43m'\u001b[39;49m\u001b[38;5;124;43mvctk\u001b[39;49m\u001b[38;5;124;43m'\u001b[39;49m\u001b[43m)\u001b[49m\n",
      "Cell \u001b[0;32mIn[71], line 15\u001b[0m, in \u001b[0;36mparse_results\u001b[0;34m(conditions, edits, metric, dataset)\u001b[0m\n\u001b[1;32m     13\u001b[0m \u001b[38;5;28;01mfor\u001b[39;00m condition \u001b[38;5;129;01min\u001b[39;00m conditions:\n\u001b[1;32m     14\u001b[0m     values \u001b[38;5;241m=\u001b[39m \u001b[38;5;28mlist\u001b[39m(results[condition]\u001b[38;5;241m.\u001b[39mvalues())\n\u001b[0;32m---> 15\u001b[0m     results[condition][\u001b[38;5;124m'\u001b[39m\u001b[38;5;124maverage\u001b[39m\u001b[38;5;124m'\u001b[39m] \u001b[38;5;241m=\u001b[39m \u001b[38;5;28;43msum\u001b[39;49m\u001b[43m(\u001b[49m\u001b[43mvalues\u001b[49m\u001b[43m)\u001b[49m\u001b[43m \u001b[49m\u001b[38;5;241;43m/\u001b[39;49m\u001b[43m \u001b[49m\u001b[38;5;28;43mlen\u001b[39;49m\u001b[43m(\u001b[49m\u001b[43mvalues\u001b[49m\u001b[43m)\u001b[49m\n\u001b[1;32m     16\u001b[0m \u001b[38;5;28mprint\u001b[39m(\n\u001b[1;32m     17\u001b[0m     json\u001b[38;5;241m.\u001b[39mdumps(\n\u001b[1;32m     18\u001b[0m         {condition: results[condition][\u001b[38;5;124m'\u001b[39m\u001b[38;5;124maverage\u001b[39m\u001b[38;5;124m'\u001b[39m] \u001b[38;5;28;01mfor\u001b[39;00m condition \u001b[38;5;129;01min\u001b[39;00m conditions},\n\u001b[1;32m     19\u001b[0m         indent\u001b[38;5;241m=\u001b[39m\u001b[38;5;241m4\u001b[39m,\n\u001b[1;32m     20\u001b[0m         sort_keys\u001b[38;5;241m=\u001b[39m\u001b[38;5;28;01mTrue\u001b[39;00m))\n",
      "\u001b[0;31mZeroDivisionError\u001b[0m: division by zero"
     ]
    }
   ],
   "source": [
    "for metric in metrics:\n",
    "    print(metric)\n",
    "    parse_results(conditions, edits, metric, 'vctk')"
   ]
  },
  {
   "cell_type": "markdown",
   "id": "5c0fad86-7b4d-43ee-aaee-97e0093d3c54",
   "metadata": {},
   "source": [
    "## File-level inspection of objective results"
   ]
  },
  {
   "cell_type": "code",
   "execution_count": null,
   "id": "3413a0d5-019a-4947-aa74-6957f8311d80",
   "metadata": {},
   "outputs": [],
   "source": [
    "# Load fine-grained objective results\n",
    "condition = 'sppg-percentile-085'\n",
    "results = {}\n",
    "for file in Path(f'/repos/promonet/results/{condition}/vctk').glob('0*.json'):\n",
    "    with open(file) as file:\n",
    "        results |= json.load(file)['objective']['raw']"
   ]
  },
  {
   "cell_type": "code",
   "execution_count": null,
   "id": "2cb8012b-146a-457a-802a-6d5c5ecafe01",
   "metadata": {},
   "outputs": [],
   "source": [
    "# Sort files by a specific metric\n",
    "metric = 'wer'\n",
    "metric_results = {}\n",
    "for key, edit_metrics in results.items():\n",
    "    edit = list(edit_metrics.keys())[0]\n",
    "    if 'original' not in key:\n",
    "        continue\n",
    "    metric_results[key] = edit_metrics[edit][metric]\n",
    "metric_results = dict(sorted(metric_results.items(), key=lambda item: item[1], reverse=True))"
   ]
  },
  {
   "cell_type": "code",
   "execution_count": null,
   "id": "0bf3c59f-76f4-45ca-840f-631ea84b2c03",
   "metadata": {},
   "outputs": [],
   "source": [
    "subjective_directory = Path('/repos/promonet/eval/subjective')\n",
    "objective_directory = Path('/repos/promonet/eval/objective')\n",
    "for i, stem in enumerate(metric_results):\n",
    "\n",
    "    if i > 10:\n",
    "        break\n",
    "    print(stem, metric_results[stem])\n",
    "    predicted = promonet.load.audio(subjective_directory / condition / f'{stem}.wav')\n",
    "    ipd.display(ipd.Audio(predicted, rate=promonet.SAMPLE_RATE))\n",
    "    parts = stem.split('-')\n",
    "    file = subjective_directory / 'original' / f'{\"-\".join(parts[:3])}-original-100.wav'\n",
    "    print(file)\n",
    "    ipd.display(ipd.Audio(file))\n",
    "    print(promonet.load.text(objective_directory / condition / f'{stem}.txt'))\n",
    "    print(promonet.load.text(objective_directory / 'original' / f'{stem}.txt'))\n",
    "    frames = promonet.convert.samples_to_frames(predicted.shape[-1])\n",
    "    figure = promonet.plot.from_features(\n",
    "        predicted,\n",
    "        torch.load(objective_directory / condition / f'{stem}-viterbi-pitch.pt'),\n",
    "        torch.load(objective_directory / condition / f'{stem}-viterbi-periodicity.pt'),\n",
    "        promonet.loudness.band_average(torch.load(objective_directory / condition / f'{stem}-loudness.pt'), 1),\n",
    "        promonet.load.ppg(objective_directory / condition / f'{stem}-ppg.pt', frames),\n",
    "        torch.load(objective_directory / 'original' / f'{stem}-viterbi-pitch.pt'),\n",
    "        torch.load(objective_directory / 'original' / f'{stem}-viterbi-periodicity.pt'),\n",
    "        promonet.loudness.band_average(torch.load(objective_directory / 'original' / f'{stem}-loudness.pt'), 1),\n",
    "        promonet.load.ppg(objective_directory / 'original' / f'{stem}-ppg.pt', frames))\n",
    "    figure.show()"
   ]
  },
  {
   "cell_type": "code",
   "execution_count": null,
   "id": "6345683d-fe8b-4716-84f8-5a6da5ca5db2",
   "metadata": {},
   "outputs": [],
   "source": []
  }
 ],
 "metadata": {
  "kernelspec": {
   "display_name": "promonet",
   "language": "python",
   "name": "promonet"
  },
  "language_info": {
   "codemirror_mode": {
    "name": "ipython",
    "version": 3
   },
   "file_extension": ".py",
   "mimetype": "text/x-python",
   "name": "python",
   "nbconvert_exporter": "python",
   "pygments_lexer": "ipython3",
   "version": "3.10.13"
  }
 },
 "nbformat": 4,
 "nbformat_minor": 5
}
