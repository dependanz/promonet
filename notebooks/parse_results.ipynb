{
 "cells": [
  {
   "cell_type": "code",
   "execution_count": 1,
   "id": "37044920-d03d-48fd-ba8e-bfbc648b912a",
   "metadata": {},
   "outputs": [],
   "source": [
    "%load_ext autoreload\n",
    "%autoreload 2"
   ]
  },
  {
   "cell_type": "code",
   "execution_count": 2,
   "id": "b9499e03-9923-4c5f-8122-0c078281bcce",
   "metadata": {},
   "outputs": [
    {
     "name": "stderr",
     "output_type": "stream",
     "text": [
      "/home/mrm5248/micromamba/envs/promonet/lib/python3.10/site-packages/tqdm/auto.py:21: TqdmWarning: IProgress not found. Please update jupyter and ipywidgets. See https://ipywidgets.readthedocs.io/en/stable/user_install.html\n",
      "  from .autonotebook import tqdm as notebook_tqdm\n"
     ]
    }
   ],
   "source": [
    "import json\n",
    "from pathlib import Path\n",
    "\n",
    "import IPython.display as ipd\n",
    "import torch\n",
    "\n",
    "import promonet"
   ]
  },
  {
   "cell_type": "code",
   "execution_count": 3,
   "id": "79abb39c-7907-4dcf-a308-6f72fd807f28",
   "metadata": {},
   "outputs": [],
   "source": [
    "# Conditions to consider\n",
    "conditions = [\n",
    "    'promonet',\n",
    "    # 'ablate-augment',\n",
    "    # 'ablate-multiloud',\n",
    "    # 'ablate-sppg',\n",
    "    # 'ablate-variable-pitch',\n",
    "    # 'ablate-viterbi',\n",
    "    # 'ablate-all',\n",
    "    # 'mels',\n",
    "    # 'mels-ours',\n",
    "    # 'psola',\n",
    "    # 'world'\n",
    "]\n",
    "edits = [\n",
    "    'reconstructed-100',\n",
    "    'scaled-050',\n",
    "    'scaled-200',\n",
    "    'shifted-071',\n",
    "    'shifted-141',\n",
    "    'stretched-071',\n",
    "    'stretched-141'\n",
    "]\n",
    "metrics = [\n",
    "    'pitch',\n",
    "    'periodicity',\n",
    "    'loudness-loud',\n",
    "    'ppg',\n",
    "    # 'wer',\n",
    "    # 'speaker_similarity',\n",
    "    # 'formant-average',\n",
    "]"
   ]
  },
  {
   "cell_type": "markdown",
   "id": "db775fd1-bdb6-463a-87e5-ceec528d1b5d",
   "metadata": {},
   "source": [
    "## Parse objective results on a set of conditions"
   ]
  },
  {
   "cell_type": "code",
   "execution_count": 4,
   "id": "241788e2-3336-4982-aadb-ede2c45617f0",
   "metadata": {},
   "outputs": [],
   "source": [
    "def parse_results(conditions, edits, metric, dataset):\n",
    "    results = {condition: {} for condition in conditions}\n",
    "    for condition in conditions:\n",
    "        with open(f'/repos/promonet/results/{condition}/{dataset}/results.json') as file:\n",
    "            for edit, metrics in json.load(file).items():\n",
    "                if edit not in edits:\n",
    "                    continue\n",
    "                # print(edit, json.dumps(metrics, indent=4, sort_keys=True))\n",
    "                try:\n",
    "                    results[condition][edit] = metrics[metric]\n",
    "                except KeyError:\n",
    "                    pass\n",
    "    for condition in conditions:\n",
    "        values = list(results[condition].values())\n",
    "        results[condition]['average'] = sum(values) / len(values)\n",
    "    print(\n",
    "        json.dumps(\n",
    "            {condition: results[condition]['average'] for condition in conditions},\n",
    "            indent=4,\n",
    "            sort_keys=True))\n"
   ]
  },
  {
   "cell_type": "code",
   "execution_count": 5,
   "id": "6646534a-1961-42b8-9640-847093b82e3b",
   "metadata": {},
   "outputs": [
    {
     "name": "stdout",
     "output_type": "stream",
     "text": [
      "pitch\n",
      "{\n",
      "    \"promonet\": 21.77349016070366\n",
      "}\n",
      "periodicity\n",
      "{\n",
      "    \"promonet\": 0.07874885104916549\n",
      "}\n",
      "loudness-loud\n",
      "{\n",
      "    \"promonet\": 0.8147171073655924\n",
      "}\n",
      "ppg\n",
      "{\n",
      "    \"promonet\": 0.159147410094738\n",
      "}\n"
     ]
    }
   ],
   "source": [
    "for metric in metrics:\n",
    "    print(metric)\n",
    "    parse_results(conditions, edits, metric, 'vctk')"
   ]
  },
  {
   "cell_type": "markdown",
   "id": "5c0fad86-7b4d-43ee-aaee-97e0093d3c54",
   "metadata": {},
   "source": [
    "## File-level inspection of objective results"
   ]
  },
  {
   "cell_type": "code",
   "execution_count": 99,
   "id": "3413a0d5-019a-4947-aa74-6957f8311d80",
   "metadata": {},
   "outputs": [],
   "source": [
    "# Load fine-grained objective results\n",
    "condition = 'ablate-all'\n",
    "results = {}\n",
    "for file in Path(f'/repos/promonet/results/{condition}/vctk').glob('0*.json'):\n",
    "    with open(file) as file:\n",
    "        results |= json.load(file)['objective']['raw']"
   ]
  },
  {
   "cell_type": "code",
   "execution_count": 109,
   "id": "2cb8012b-146a-457a-802a-6d5c5ecafe01",
   "metadata": {},
   "outputs": [],
   "source": [
    "# Sort files by a specific metric\n",
    "metric = 'ppg'\n",
    "metric_results = {}\n",
    "for key, edit_metrics in results.items():\n",
    "    edit = list(edit_metrics.keys())[0]\n",
    "    if 'shifted-' not in key and 'scaled-' not in key and 'stretched-' not in key and 'original-' not in key:\n",
    "        continue\n",
    "    metric_results[key] = edit_metrics[edit][metric]\n",
    "metric_results = dict(sorted(metric_results.items(), key=lambda item: item[1], reverse=True))"
   ]
  },
  {
   "cell_type": "code",
   "execution_count": 110,
   "id": "6b398f67-c283-4856-949d-2c9e97c6998e",
   "metadata": {},
   "outputs": [],
   "source": [
    "import numpy as np\n",
    "import scipy.stats\n",
    "\n",
    "def mean_confidence_interval(data, confidence=0.95):\n",
    "    a = 1.0 * np.array(data)\n",
    "    n = len(a)\n",
    "    m, se = np.mean(a), scipy.stats.sem(a)\n",
    "    return m, se * scipy.stats.t.ppf((1 + confidence) / 2., n-1)"
   ]
  },
  {
   "cell_type": "code",
   "execution_count": 111,
   "id": "179c9209-be9e-4a39-9aa8-5c7d27c2f159",
   "metadata": {},
   "outputs": [
    {
     "data": {
      "text/plain": [
       "(0.1656479635834694, 0.0059656517946793134)"
      ]
     },
     "execution_count": 111,
     "metadata": {},
     "output_type": "execute_result"
    }
   ],
   "source": [
    "mean_confidence_interval(list(metric_results.values()))"
   ]
  },
  {
   "cell_type": "code",
   "execution_count": null,
   "id": "0bf3c59f-76f4-45ca-840f-631ea84b2c03",
   "metadata": {},
   "outputs": [],
   "source": [
    "subjective_directory = Path('/repos/promonet/eval/subjective')\n",
    "objective_directory = Path('/repos/promonet/eval/objective')\n",
    "for i, stem in enumerate(metric_results):\n",
    "\n",
    "    if i > 10:\n",
    "        break\n",
    "    print(stem, metric_results[stem])\n",
    "    predicted = promonet.load.audio(subjective_directory / condition / f'{stem}.wav')\n",
    "    ipd.display(ipd.Audio(predicted, rate=promonet.SAMPLE_RATE))\n",
    "    parts = stem.split('-')\n",
    "    file = subjective_directory / 'original' / f'{\"-\".join(parts[:3])}-original-100.wav'\n",
    "    print(file)\n",
    "    ipd.display(ipd.Audio(file))\n",
    "    print(promonet.load.text(objective_directory / condition / f'{stem}.txt'))\n",
    "    print(promonet.load.text(objective_directory / 'original' / f'{stem}.txt'))\n",
    "    frames = promonet.convert.samples_to_frames(predicted.shape[-1])\n",
    "    figure = promonet.plot.from_features(\n",
    "        predicted,\n",
    "        torch.load(objective_directory / condition / f'{stem}-viterbi-pitch.pt'),\n",
    "        torch.load(objective_directory / condition / f'{stem}-viterbi-periodicity.pt'),\n",
    "        promonet.preprocess.loudness.band_average(torch.load(objective_directory / condition / f'{stem}-loudness.pt'), 1),\n",
    "        promonet.load.ppg(objective_directory / condition / f'{stem}-ppg.pt', frames),\n",
    "        torch.load(objective_directory / 'original' / f'{stem}-viterbi-pitch.pt'),\n",
    "        torch.load(objective_directory / 'original' / f'{stem}-viterbi-periodicity.pt'),\n",
    "        promonet.preprocess.loudness.band_average(torch.load(objective_directory / 'original' / f'{stem}-loudness.pt'), 1),\n",
    "        promonet.load.ppg(objective_directory / 'original' / f'{stem}-ppg.pt', frames))\n",
    "    figure.show()"
   ]
  },
  {
   "cell_type": "code",
   "execution_count": null,
   "id": "6345683d-fe8b-4716-84f8-5a6da5ca5db2",
   "metadata": {},
   "outputs": [],
   "source": []
  }
 ],
 "metadata": {
  "kernelspec": {
   "display_name": "Python 3 (ipykernel)",
   "language": "python",
   "name": "python3"
  },
  "language_info": {
   "codemirror_mode": {
    "name": "ipython",
    "version": 3
   },
   "file_extension": ".py",
   "mimetype": "text/x-python",
   "name": "python",
   "nbconvert_exporter": "python",
   "pygments_lexer": "ipython3",
   "version": "3.10.13"
  }
 },
 "nbformat": 4,
 "nbformat_minor": 5
}
