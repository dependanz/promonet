{
 "cells": [
  {
   "cell_type": "code",
   "execution_count": null,
   "id": "2660d72f-acc9-4809-ad89-6cf9f7856df3",
   "metadata": {},
   "outputs": [],
   "source": [
    "%load_ext autoreload\n",
    "%autoreload 2"
   ]
  },
  {
   "cell_type": "code",
   "execution_count": null,
   "id": "85bb8994-2ee0-421d-b60f-0b3f7467b097",
   "metadata": {},
   "outputs": [],
   "source": [
    "import itertools\n",
    "import random\n",
    "\n",
    "import matplotlib.pyplot as plt\n",
    "import torch\n",
    "\n",
    "import promonet"
   ]
  },
  {
   "cell_type": "code",
   "execution_count": null,
   "id": "d1e98ad1-a590-406e-88c9-3c838fa805e6",
   "metadata": {},
   "outputs": [],
   "source": [
    "stems = promonet.load.partition('vctk')['train']"
   ]
  },
  {
   "cell_type": "code",
   "execution_count": null,
   "id": "49fc387a-d7fd-41ab-94fc-006010bea1b2",
   "metadata": {},
   "outputs": [],
   "source": [
    "files = [promonet.CACHE_DIR / 'vctk' / f'{stem}-100-spectrogram.pt' for stem in stems]"
   ]
  },
  {
   "cell_type": "code",
   "execution_count": null,
   "id": "bfa38184-57eb-4b00-9a17-0c08e5cc1e45",
   "metadata": {},
   "outputs": [],
   "source": [
    "random.shuffle(files)"
   ]
  },
  {
   "cell_type": "code",
   "execution_count": null,
   "id": "c1144a1c-f477-458d-8569-441c23ea7242",
   "metadata": {},
   "outputs": [],
   "source": [
    "selected = files[:1000]"
   ]
  },
  {
   "cell_type": "code",
   "execution_count": null,
   "id": "939181c6-fbf3-4c84-a4ee-e5c3558786df",
   "metadata": {},
   "outputs": [],
   "source": [
    "promonet.DYNAMIC_RANGE_COMPRESSION_THRESHOLD = None"
   ]
  },
  {
   "cell_type": "code",
   "execution_count": null,
   "id": "f78dd66b-3d76-414a-880f-b1d9e2e39334",
   "metadata": {},
   "outputs": [],
   "source": [
    "values = torch.cat([\n",
    "    promonet.preprocess.spectrogram.linear_to_mel(torch.load(file)).flatten()\n",
    "    for file in selected])"
   ]
  },
  {
   "cell_type": "code",
   "execution_count": null,
   "id": "ac7c3084-f316-4244-9459-81d2b8b923e2",
   "metadata": {},
   "outputs": [],
   "source": [
    "plt.hist(torch.exp(values), bins=torch.logspace(start=-6, end=2, steps=9))\n",
    "plt.xscale('log')"
   ]
  },
  {
   "cell_type": "code",
   "execution_count": null,
   "id": "40aed0dd-2c70-427b-80ba-b706861be717",
   "metadata": {},
   "outputs": [],
   "source": [
    "torch.exp(values).min()"
   ]
  },
  {
   "cell_type": "code",
   "execution_count": null,
   "id": "797356ea-dec7-4965-bdf0-41e0b5a3e00e",
   "metadata": {},
   "outputs": [],
   "source": [
    "torch.exp(values).max()"
   ]
  },
  {
   "cell_type": "code",
   "execution_count": null,
   "id": "d52738c1-0709-42be-bdfa-ce0988f18cee",
   "metadata": {},
   "outputs": [],
   "source": [
    "values.min()"
   ]
  },
  {
   "cell_type": "code",
   "execution_count": null,
   "id": "97116cfd-bce0-4b5d-a557-08f678464046",
   "metadata": {},
   "outputs": [],
   "source": [
    "values.max()"
   ]
  },
  {
   "cell_type": "code",
   "execution_count": null,
   "id": "bbdd9a9b-8532-45f0-b445-394c1d7b4db9",
   "metadata": {},
   "outputs": [],
   "source": []
  }
 ],
 "metadata": {
  "kernelspec": {
   "display_name": "promonet",
   "language": "python",
   "name": "promonet"
  },
  "language_info": {
   "codemirror_mode": {
    "name": "ipython",
    "version": 3
   },
   "file_extension": ".py",
   "mimetype": "text/x-python",
   "name": "python",
   "nbconvert_exporter": "python",
   "pygments_lexer": "ipython3",
   "version": "3.10.13"
  }
 },
 "nbformat": 4,
 "nbformat_minor": 5
}
