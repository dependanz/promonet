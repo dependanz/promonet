{
 "cells": [
  {
   "cell_type": "code",
   "execution_count": null,
   "id": "3e82a4d3-4c66-4822-aab7-72b10f3e16b2",
   "metadata": {},
   "outputs": [],
   "source": [
    "%load_ext autoreload\n",
    "%autoreload 2"
   ]
  },
  {
   "cell_type": "code",
   "execution_count": null,
   "id": "0f075640-d2b3-41e4-bb18-dbd663683272",
   "metadata": {},
   "outputs": [],
   "source": [
    "import IPython.display as ipd\n",
    "import matplotlib.pyplot as plt\n",
    "import ppgs\n",
    "import torch\n",
    "import torchaudio\n",
    "\n",
    "import promonet"
   ]
  },
  {
   "cell_type": "code",
   "execution_count": null,
   "id": "15eaa056-469e-4936-a1be-4ef2998fa10f",
   "metadata": {},
   "outputs": [],
   "source": [
    "# Configuration name\n",
    "ppgs.CONFIG = 'w2v2fb'\n",
    "\n",
    "# Network width\n",
    "ppgs.HIDDEN_CHANNELS = 512\n",
    "\n",
    "# Dimensionality of input representation\n",
    "ppgs.INPUT_CHANNELS = 768\n",
    "\n",
    "# Number of hidden layers\n",
    "ppgs.NUM_HIDDEN_LAYERS = 5\n",
    "\n",
    "# Input representation\n",
    "ppgs.REPRESENTATION = 'w2v2fb'\n",
    "\n",
    "# Local checkpoint to use\n",
    "# If None, Huggingface will be used unless a checkpoint is given in the CLI\n",
    "ppgs.LOCAL_CHECKPOINT = f'/repos/ppgs/runs/w2v2fb/00200000.pt'"
   ]
  },
  {
   "cell_type": "markdown",
   "id": "1e18a52b-de84-4e50-b400-bed356486aa8",
   "metadata": {},
   "source": [
    "### Load audio"
   ]
  },
  {
   "cell_type": "code",
   "execution_count": null,
   "id": "ee9c71e9-2775-4a05-af46-8e6d71410edc",
   "metadata": {},
   "outputs": [],
   "source": [
    "# stems = promonet.load.partition('vctk')['valid']\n",
    "# stem = stems[47]\n",
    "# promonet.load.text(promonet.CACHE_DIR / 'vctk' / f'{stem}.txt')\n",
    "audio = promonet.load.audio('/hemera-storage1/pardo/max/test-audio/ill-be-back-denoise.wav')[:, :-int(.17 * promonet.SAMPLE_RATE)]\n",
    "ipd.Audio(audio, rate=promonet.SAMPLE_RATE)"
   ]
  },
  {
   "cell_type": "markdown",
   "id": "b578f71c-ddbb-40f1-9b88-4e576a877518",
   "metadata": {},
   "source": [
    "### Preprocess"
   ]
  },
  {
   "cell_type": "code",
   "execution_count": null,
   "id": "d8210bae-ded6-4edb-9e89-af6a9623b9d4",
   "metadata": {},
   "outputs": [],
   "source": [
    "# Preprocess\n",
    "loudness, pitch, periodicity, ppg = promonet.preprocess.from_audio(\n",
    "    audio,\n",
    "    features=['ppg', 'pitch', 'periodicity', 'loudness'],\n",
    "    gpu=0)"
   ]
  },
  {
   "cell_type": "code",
   "execution_count": null,
   "id": "f03da82d-fbe6-411f-aa19-552a01c9591c",
   "metadata": {},
   "outputs": [],
   "source": [
    "features = ['audio', 'ppg', 'pitch', 'periodicity', 'loudness']\n",
    "figure = promonet.plot.from_features(\n",
    "    audio,\n",
    "    promonet.loudness.band_average(loudness, 1),\n",
    "    pitch,\n",
    "    periodicity,\n",
    "    ppg,\n",
    "    features=features)\n",
    "figure.savefig('representation.pdf', bbox_inches='tight', pad_inches=0)\n",
    "figure.savefig('representation.jpg', bbox_inches='tight', pad_inches=0)\n",
    "figure.savefig('representation.png', bbox_inches='tight', pad_inches=0, transparent=True)"
   ]
  },
  {
   "cell_type": "code",
   "execution_count": null,
   "id": "e058f354-70c0-4612-9ff6-5156b513ec4e",
   "metadata": {},
   "outputs": [],
   "source": [
    "# Save parts\n",
    "for axis, feature in zip(figure.axes, features):\n",
    "    extent = axis.get_window_extent().transformed(figure.dpi_scale_trans.inverted())\n",
    "    figure.savefig(f'{feature}.png', bbox_inches=extent.expanded(1.5, 1.5), transparent=True)"
   ]
  },
  {
   "cell_type": "code",
   "execution_count": null,
   "id": "4bda9d33-2ac4-4995-9b4d-cc9c9b2c32d4",
   "metadata": {},
   "outputs": [],
   "source": []
  }
 ],
 "metadata": {
  "kernelspec": {
   "display_name": "promonet",
   "language": "python",
   "name": "promonet"
  },
  "language_info": {
   "codemirror_mode": {
    "name": "ipython",
    "version": 3
   },
   "file_extension": ".py",
   "mimetype": "text/x-python",
   "name": "python",
   "nbconvert_exporter": "python",
   "pygments_lexer": "ipython3",
   "version": "3.10.13"
  }
 },
 "nbformat": 4,
 "nbformat_minor": 5
}
