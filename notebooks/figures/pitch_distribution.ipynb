{
 "cells": [
  {
   "cell_type": "code",
   "execution_count": null,
   "metadata": {},
   "outputs": [],
   "source": [
    "%load_ext autoreload\n",
    "%autoreload 2"
   ]
  },
  {
   "cell_type": "code",
   "execution_count": null,
   "metadata": {},
   "outputs": [],
   "source": [
    "import IPython.display as ipd\n",
    "import matplotlib.pyplot as plt\n",
    "import torch\n",
    "import torchutil\n",
    "import promonet"
   ]
  },
  {
   "cell_type": "code",
   "execution_count": null,
   "metadata": {},
   "outputs": [],
   "source": [
    "# Get distribution without augmentation or variable-width\n",
    "promonet.AUGMENT_PITCH = False\n",
    "promonet.AUGMENT_LOUDNESS = False\n",
    "allpitch = []\n",
    "lowstems = []\n",
    "dataset = promonet.data.Dataset('vctk', 'train')\n",
    "for stem in torchutil.iterator(\n",
    "    dataset.stems,\n",
    "    'promonet.load.pitch_distribution'\n",
    "):\n",
    "    pitch = torch.load(\n",
    "        dataset.cache / f'{stem}-viterbi-pitch.pt')\n",
    "    periodicity = torch.load(\n",
    "        dataset.cache / f'{stem}-viterbi-periodicity.pt')\n",
    "    allpitch.append(\n",
    "        pitch[periodicity > promonet.VOICING_THRESHOLD])\n",
    "    if torch.isnan(pitch).any():\n",
    "        print('nan')\n",
    "    if pitch.min() < 65.:\n",
    "        lowstems.append(stem)\n",
    "hz, _ = torch.sort(torch.cat(allpitch))\n",
    "hz = torch.clip(hz, promonet.FMIN, promonet.FMAX)\n",
    "logfmin = torch.log2(torch.tensor(promonet.FMIN))\n",
    "logfmax = torch.log2(torch.tensor(promonet.FMAX))\n",
    "centered = torch.log2(hz) - logfmin\n",
    "normalized = centered / (logfmax - logfmin)\n",
    "original_bins = ((promonet.PITCH_BINS - 1) * normalized).to(torch.long)\n",
    "indices = torch.linspace(\n",
    "    0.,\n",
    "    len(hz) - 1,\n",
    "    promonet.PITCH_BINS,\n",
    "    dtype=torch.float64\n",
    ").to(torch.long)\n",
    "original_distribution = hz[indices]\n",
    "original_distribution[0] = promonet.FMIN"
   ]
  },
  {
   "cell_type": "code",
   "execution_count": null,
   "metadata": {},
   "outputs": [],
   "source": [
    "# Get distribution with augmentation\n",
    "promonet.AUGMENT_PITCH = True\n",
    "promonet.AUGMENT_LOUDNESS = True\n",
    "allpitch = []\n",
    "dataset = promonet.data.Dataset('vctk', 'train')\n",
    "for stem in torchutil.iterator(\n",
    "    dataset.stems,\n",
    "    'promonet.load.pitch_distribution'\n",
    "):\n",
    "    pitch = torch.load(\n",
    "        dataset.cache / f'{stem}-viterbi-pitch.pt')\n",
    "    periodicity = torch.load(\n",
    "        dataset.cache / f'{stem}-viterbi-periodicity.pt')\n",
    "    allpitch.append(\n",
    "        pitch[torch.logical_and(~torch.isnan(pitch), periodicity > promonet.VOICING_THRESHOLD)])\n",
    "hz, _ = torch.sort(torch.cat(allpitch))\n",
    "hz = torch.clip(hz, promonet.FMIN, promonet.FMAX)\n",
    "logfmin = torch.log2(torch.tensor(promonet.FMIN))\n",
    "logfmax = torch.log2(torch.tensor(promonet.FMAX))\n",
    "centered = torch.log2(hz) - logfmin\n",
    "normalized = centered / (logfmax - logfmin)\n",
    "augmented_bins = ((promonet.PITCH_BINS - 1) * normalized).to(torch.long)\n",
    "indices = torch.linspace(\n",
    "    len(hz) / promonet.PITCH_BINS,\n",
    "    len(hz) - 1,\n",
    "    promonet.PITCH_BINS,\n",
    "    dtype=torch.float64\n",
    ").to(torch.long)\n",
    "augmented_distribution = hz[indices]"
   ]
  },
  {
   "cell_type": "code",
   "execution_count": null,
   "metadata": {},
   "outputs": [],
   "source": [
    "variable_bins = torch.clip(torch.searchsorted(hz[indices], hz), 0, promonet.PITCH_BINS - 1)"
   ]
  },
  {
   "cell_type": "code",
   "execution_count": null,
   "metadata": {},
   "outputs": [],
   "source": [
    "original_counts = torch.bincount(original_bins, minlength=promonet.PITCH_BINS)\n",
    "augmented_counts = torch.bincount(augmented_bins, minlength=promonet.PITCH_BINS)\n",
    "variable_counts = torch.bincount(variable_bins, minlength=promonet.PITCH_BINS)\n",
    "original_normalized = original_counts / sum(original_counts)\n",
    "augmented_normalized = augmented_counts / sum(augmented_counts)\n",
    "variable_normalized = variable_counts / sum(variable_counts)\n",
    "ymax = max(variable_normalized.max(), augmented_normalized.max(), original_normalized.max())"
   ]
  },
  {
   "cell_type": "code",
   "execution_count": null,
   "metadata": {},
   "outputs": [],
   "source": [
    "def entropy(d):\n",
    "    return - (d * torch.log(d + 1e-9)).sum()\n",
    "original_entropy = entropy(original_normalized)\n",
    "augmented_entropy = entropy(augmented_normalized)\n",
    "variable_entropy = entropy(variable_normalized)"
   ]
  },
  {
   "cell_type": "code",
   "execution_count": null,
   "metadata": {},
   "outputs": [],
   "source": [
    "xlabels = torch.tensor([50, 100, 200, 400])\n",
    "original_xticks = ((promonet.PITCH_BINS - 1) * (torch.log2(xlabels) - promonet.LOG_FMIN) / (promonet.LOG_FMAX - promonet.LOG_FMIN)).to(torch.long)\n",
    "augmented_xticks = original_xticks\n",
    "variable_xticks = torch.clip(torch.searchsorted(hz[indices], xlabels), 0, promonet.PITCH_BINS - 1)\n",
    "xlabels = xlabels.tolist()\n",
    "variable_xlabels = xlabels.copy()\n",
    "variable_xlabels[-1] = f'{xlabels[-1]} ' + r'$\\bf{Hz}$'"
   ]
  },
  {
   "cell_type": "code",
   "execution_count": null,
   "metadata": {},
   "outputs": [],
   "source": [
    "figure, axes = plt.subplots(1, 3, figsize=(15, 3))\n",
    "axes[0].stairs(original_counts, color='black')\n",
    "axes[0].set_xlabel(r'$\\bf{Original}$' + f'\\n (Entropy = {original_entropy:02f})', fontsize=12)\n",
    "axes[0].set_xticks(original_xticks, xlabels)\n",
    "axes[0].spines['top'].set_visible(False)\n",
    "axes[0].spines['right'].set_visible(False)\n",
    "axes[0].spines['bottom'].set_visible(False)\n",
    "axes[0].spines['left'].set_visible(False)\n",
    "axes[0].get_yaxis().set_ticks([])\n",
    "axes[0].set_ylim(0., ymax * original_counts.sum())\n",
    "for tick in original_xticks:\n",
    "    axes[0].vlines(tick, 0, ymax * original_counts.sum(), color='black', linestyle='--', alpha=.4)\n",
    "axes[1].stairs(augmented_counts, color='black')\n",
    "# axes[1].set_title('Maximizing the entropy of the pitch training distribution', weight='bold', fontsize=14)\n",
    "axes[1].set_xlabel(r'$\\bf{Augmented}$' + f'\\n (Entropy = {augmented_entropy:02f})', fontsize=12)\n",
    "axes[1].set_xticks(augmented_xticks, xlabels)\n",
    "axes[1].spines['top'].set_visible(False)\n",
    "axes[1].spines['right'].set_visible(False)\n",
    "axes[1].spines['bottom'].set_visible(False)\n",
    "axes[1].spines['left'].set_visible(False)\n",
    "axes[1].get_yaxis().set_ticks([])\n",
    "axes[1].set_ylim(0., ymax * augmented_counts.sum())\n",
    "for tick in augmented_xticks:\n",
    "    axes[1].vlines(tick, 0, ymax * augmented_counts.sum(), color='black', linestyle='--', alpha=.4)\n",
    "axes[2].set_xlabel(r'$\\bf{Variable}$-$\\bf{width}$' + f'\\n (Entropy = {variable_entropy:02f})', fontsize=12)\n",
    "axes[2].set_xticks(variable_xticks, variable_xlabels)\n",
    "axes[2].stairs(variable_counts, color='black')\n",
    "axes[2].spines['top'].set_visible(False)\n",
    "axes[2].spines['right'].set_visible(False)\n",
    "axes[2].spines['bottom'].set_visible(False)\n",
    "axes[2].spines['left'].set_visible(False)\n",
    "axes[2].get_yaxis().set_ticks([])\n",
    "axes[2].set_ylim(0., ymax * variable_counts.sum())\n",
    "for tick in variable_xticks:\n",
    "    axes[2].vlines(tick, 0, ymax * variable_counts.sum(), color='black', linestyle='--', alpha=.4)\n",
    "figure.savefig('pitch-entropy.pdf', bbox_inches='tight', pad_inches=0, dpi=300)\n",
    "figure.savefig('pitch-entropy.png', bbox_inches='tight', pad_inches=0, dpi=300, transparent=True)"
   ]
  },
  {
   "cell_type": "code",
   "execution_count": null,
   "metadata": {},
   "outputs": [],
   "source": []
  }
 ],
 "metadata": {
  "kernelspec": {
   "display_name": "promonet",
   "language": "python",
   "name": "promonet"
  },
  "language_info": {
   "codemirror_mode": {
    "name": "ipython",
    "version": 3
   },
   "file_extension": ".py",
   "mimetype": "text/x-python",
   "name": "python",
   "nbconvert_exporter": "python",
   "pygments_lexer": "ipython3",
   "version": "3.10.13"
  }
 },
 "nbformat": 4,
 "nbformat_minor": 4
}
