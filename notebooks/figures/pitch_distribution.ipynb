{
 "cells": [
  {
   "cell_type": "code",
   "execution_count": 1,
   "metadata": {},
   "outputs": [],
   "source": [
    "%load_ext autoreload\n",
    "%autoreload 2"
   ]
  },
  {
   "cell_type": "code",
   "execution_count": 2,
   "metadata": {},
   "outputs": [
    {
     "name": "stderr",
     "output_type": "stream",
     "text": [
      "/home/mrm5248/micromamba/envs/promonet/lib/python3.10/site-packages/tqdm/auto.py:21: TqdmWarning: IProgress not found. Please update jupyter and ipywidgets. See https://ipywidgets.readthedocs.io/en/stable/user_install.html\n",
      "  from .autonotebook import tqdm as notebook_tqdm\n"
     ]
    }
   ],
   "source": [
    "import matplotlib.pyplot as plt\n",
    "import torch\n",
    "import torchutil\n",
    "import promonet"
   ]
  },
  {
   "cell_type": "code",
   "execution_count": 3,
   "metadata": {},
   "outputs": [
    {
     "name": "stderr",
     "output_type": "stream",
     "text": [
      "promonet.load.pitch_distribution: 100%|██████████| 87894/87894 [01:00<00:00, 1451.69it/s]\n"
     ]
    }
   ],
   "source": [
    "# Get distribution without augmentation or variable-width\n",
    "promonet.AUGMENT_PITCH = False\n",
    "promonet.AUGMENT_LOUDNESS = False\n",
    "allpitch = []\n",
    "dataset = promonet.data.Dataset('vctk', 'train')\n",
    "for stem in torchutil.iterator(\n",
    "    dataset.stems,\n",
    "    'promonet.load.pitch_distribution'\n",
    "):\n",
    "    pitch = torch.load(\n",
    "        dataset.cache / f'{stem}-viterbi-pitch.pt')\n",
    "    periodicity = torch.load(\n",
    "        dataset.cache / f'{stem}-viterbi-periodicity.pt')\n",
    "    allpitch.append(\n",
    "        pitch[torch.logical_and(~torch.isnan(pitch), periodicity > promonet.VOICING_THRESHOLD)])\n",
    "hz, _ = torch.sort(torch.cat(allpitch))\n",
    "hz = torch.clip(hz, promonet.FMIN, promonet.FMAX)\n",
    "logfmin = torch.log2(torch.tensor(promonet.FMIN))\n",
    "logfmax = torch.log2(torch.tensor(promonet.FMAX))\n",
    "centered = torch.log2(hz) - logfmin\n",
    "normalized = centered / (logfmax - logfmin)\n",
    "original_bins = ((promonet.PITCH_BINS - 1) * normalized).to(torch.long)\n",
    "indices = torch.linspace(\n",
    "    0.,\n",
    "    len(hz) - 1,\n",
    "    promonet.PITCH_BINS,\n",
    "    dtype=torch.float64\n",
    ").to(torch.long)\n",
    "original_distribution = hz[indices]\n",
    "original_distribution[0] = promonet.FMIN"
   ]
  },
  {
   "cell_type": "code",
   "execution_count": 18,
   "metadata": {},
   "outputs": [
    {
     "name": "stderr",
     "output_type": "stream",
     "text": [
      "promonet.load.pitch_distribution: 100%|██████████| 263672/263672 [03:17<00:00, 1338.13it/s]\n"
     ]
    }
   ],
   "source": [
    "# Get distribution with augmentation\n",
    "promonet.AUGMENT_PITCH = True\n",
    "promonet.AUGMENT_LOUDNESS = True\n",
    "allpitch = []\n",
    "dataset = promonet.data.Dataset('vctk', 'train')\n",
    "for stem in torchutil.iterator(\n",
    "    dataset.stems,\n",
    "    'promonet.load.pitch_distribution'\n",
    "):\n",
    "    pitch = torch.load(\n",
    "        dataset.cache / f'{stem}-viterbi-pitch.pt')\n",
    "    periodicity = torch.load(\n",
    "        dataset.cache / f'{stem}-viterbi-periodicity.pt')\n",
    "    allpitch.append(\n",
    "        pitch[torch.logical_and(~torch.isnan(pitch), periodicity > promonet.VOICING_THRESHOLD)])\n",
    "hz, _ = torch.sort(torch.cat(allpitch))\n",
    "hz = torch.clip(hz, promonet.FMIN, promonet.FMAX)\n",
    "logfmin = torch.log2(torch.tensor(promonet.FMIN))\n",
    "logfmax = torch.log2(torch.tensor(promonet.FMAX))\n",
    "centered = torch.log2(hz) - logfmin\n",
    "normalized = centered / (logfmax - logfmin)\n",
    "augmented_bins = ((promonet.PITCH_BINS - 1) * normalized).to(torch.long)\n",
    "indices = torch.linspace(\n",
    "    len(hz) / promonet.PITCH_BINS,\n",
    "    len(hz) - 1,\n",
    "    promonet.PITCH_BINS,\n",
    "    dtype=torch.float64\n",
    ").to(torch.long)\n",
    "augmented_distribution = hz[indices]"
   ]
  },
  {
   "cell_type": "code",
   "execution_count": 19,
   "metadata": {},
   "outputs": [],
   "source": [
    "variable_bins = torch.clip(torch.searchsorted(hz[indices], hz), 0, promonet.PITCH_BINS - 1)"
   ]
  },
  {
   "cell_type": "code",
   "execution_count": 20,
   "metadata": {},
   "outputs": [
    {
     "name": "stdout",
     "output_type": "stream",
     "text": [
      "tensor([  0,   0,   0,  ..., 255, 255, 255])\n"
     ]
    }
   ],
   "source": [
    "print(variable_bins)"
   ]
  },
  {
   "cell_type": "code",
   "execution_count": 21,
   "metadata": {},
   "outputs": [
    {
     "name": "stdout",
     "output_type": "stream",
     "text": [
      "25211924 tensor([   98484,   196968,   295452,   393936,   492420,   590904,   689388,\n",
      "          787872,   886356,   984840,  1083324,  1181808,  1280292,  1378777,\n",
      "         1477261,  1575745,  1674229,  1772713,  1871197,  1969681,  2068165,\n",
      "         2166649,  2265133,  2363617,  2462101,  2560585,  2659070,  2757554,\n",
      "         2856038,  2954522,  3053006,  3151490,  3249974,  3348458,  3446942,\n",
      "         3545426,  3643910,  3742394,  3840878,  3939362,  4037847,  4136331,\n",
      "         4234815,  4333299,  4431783,  4530267,  4628751,  4727235,  4825719,\n",
      "         4924203,  5022687,  5121171,  5219655,  5318140,  5416624,  5515108,\n",
      "         5613592,  5712076,  5810560,  5909044,  6007528,  6106012,  6204496,\n",
      "         6302980,  6401464,  6499948,  6598432,  6696917,  6795401,  6893885,\n",
      "         6992369,  7090853,  7189337,  7287821,  7386305,  7484789,  7583273,\n",
      "         7681757,  7780241,  7878725,  7977210,  8075694,  8174178,  8272662,\n",
      "         8371146,  8469630,  8568114,  8666598,  8765082,  8863566,  8962050,\n",
      "         9060534,  9159018,  9257502,  9355987,  9454471,  9552955,  9651439,\n",
      "         9749923,  9848407,  9946891, 10045375, 10143859, 10242343, 10340827,\n",
      "        10439311, 10537795, 10636280, 10734764, 10833248, 10931732, 11030216,\n",
      "        11128700, 11227184, 11325668, 11424152, 11522636, 11621120, 11719604,\n",
      "        11818088, 11916572, 12015057, 12113541, 12212025, 12310509, 12408993,\n",
      "        12507477, 12605961, 12704445, 12802929, 12901413, 12999897, 13098381,\n",
      "        13196865, 13295350, 13393834, 13492318, 13590802, 13689286, 13787770,\n",
      "        13886254, 13984738, 14083222, 14181706, 14280190, 14378674, 14477158,\n",
      "        14575642, 14674127, 14772611, 14871095, 14969579, 15068063, 15166547,\n",
      "        15265031, 15363515, 15461999, 15560483, 15658967, 15757451, 15855935,\n",
      "        15954420, 16052904, 16151388, 16249872, 16348356, 16446840, 16545324,\n",
      "        16643808, 16742292, 16840776, 16939260, 17037744, 17136228, 17234712,\n",
      "        17333197, 17431681, 17530165, 17628649, 17727133, 17825617, 17924101,\n",
      "        18022585, 18121069, 18219553, 18318037, 18416521, 18515005, 18613490,\n",
      "        18711974, 18810458, 18908942, 19007426, 19105910, 19204394, 19302878,\n",
      "        19401362, 19499846, 19598330, 19696814, 19795298, 19893782, 19992267,\n",
      "        20090751, 20189235, 20287719, 20386203, 20484687, 20583171, 20681655,\n",
      "        20780139, 20878623, 20977107, 21075591, 21174075, 21272560, 21371044,\n",
      "        21469528, 21568012, 21666496, 21764980, 21863464, 21961948, 22060432,\n",
      "        22158916, 22257400, 22355884, 22454368, 22552852, 22651337, 22749821,\n",
      "        22848305, 22946789, 23045273, 23143757, 23242241, 23340725, 23439209,\n",
      "        23537693, 23636177, 23734661, 23833145, 23931630, 24030114, 24128598,\n",
      "        24227082, 24325566, 24424050, 24522534, 24621018, 24719502, 24817986,\n",
      "        24916470, 25014954, 25113438, 25211923])\n"
     ]
    }
   ],
   "source": [
    "print(len(hz), indices)"
   ]
  },
  {
   "cell_type": "code",
   "execution_count": 23,
   "metadata": {},
   "outputs": [],
   "source": [
    "original_counts = torch.bincount(original_bins, minlength=promonet.PITCH_BINS)\n",
    "augmented_counts = torch.bincount(augmented_bins, minlength=promonet.PITCH_BINS)\n",
    "variable_counts = torch.bincount(variable_bins, minlength=promonet.PITCH_BINS)\n",
    "original_normalized = original_counts / sum(original_counts)\n",
    "augmented_normalized = augmented_counts / sum(augmented_counts)\n",
    "variable_normalized = variable_counts / sum(variable_counts)\n",
    "ymax = max(variable_normalized.max(), augmented_normalized.max(), original_normalized.max())"
   ]
  },
  {
   "cell_type": "code",
   "execution_count": 25,
   "metadata": {},
   "outputs": [
    {
     "data": {
      "text/plain": [
       "tensor([98485, 98484, 98484, 98484, 98484, 98484, 98485, 98483, 98485, 98483,\n",
       "        98484, 98486, 98482, 98485, 98485, 98483, 98485, 98483, 98486, 98482,\n",
       "        98484, 98484, 98484, 98485, 98485, 98486, 98481, 98485, 98484, 98483,\n",
       "        98484, 98484, 98488, 98481, 98483, 98484, 98484, 98486, 98487, 98480,\n",
       "        98487, 98483, 98483, 98483, 98486, 98482, 98487, 98482, 98484, 98484,\n",
       "        98485, 98483, 98486, 98483, 98483, 98486, 98483, 98484, 98484, 98484,\n",
       "        98483, 98484, 98486, 98485, 98481, 98486, 98484, 98490, 98477, 98486,\n",
       "        98486, 98480, 98490, 98478, 98485, 98488, 98485, 98478, 98488, 98481,\n",
       "        98491, 98478, 98484, 98485, 98482, 98485, 98487, 98484, 98483, 98481,\n",
       "        98486, 98483, 98483, 98488, 98483, 98482, 98488, 98480, 98486, 98482,\n",
       "        98487, 98481, 98488, 98484, 98482, 98484, 98484, 98486, 98484, 98486,\n",
       "        98481, 98482, 98490, 98479, 98483, 98485, 98483, 98484, 98486, 98484,\n",
       "        98488, 98480, 98484, 98487, 98485, 98482, 98483, 98485, 98481, 98487,\n",
       "        98488, 98480, 98482, 98487, 98482, 98483, 98484, 98487, 98487, 98480,\n",
       "        98482, 98484, 98484, 98491, 98478, 98486, 98487, 98481, 98482, 98484,\n",
       "        98493, 98476, 98485, 98483, 98487, 98488, 98482, 98486, 98478, 98482,\n",
       "        98489, 98481, 98484, 98489, 98482, 98486, 98483, 98479, 98487, 98485,\n",
       "        98486, 98481, 98484, 98487, 98479, 98485, 98483, 98487, 98485, 98481,\n",
       "        98487, 98486, 98481, 98483, 98484, 98485, 98483, 98483, 98484, 98488,\n",
       "        98486, 98481, 98482, 98483, 98488, 98481, 98484, 98485, 98483, 98484,\n",
       "        98485, 98483, 98488, 98481, 98484, 98488, 98481, 98486, 98481, 98484,\n",
       "        98485, 98488, 98481, 98482, 98483, 98485, 98488, 98482, 98486, 98480,\n",
       "        98489, 98479, 98485, 98484, 98483, 98484, 98484, 98484, 98486, 98487,\n",
       "        98481, 98486, 98481, 98484, 98484, 98485, 98484, 98483, 98487, 98481,\n",
       "        98484, 98484, 98486, 98483, 98484, 98484, 98484, 98487, 98481, 98486,\n",
       "        98482, 98484, 98484, 98484, 98484, 98485])"
      ]
     },
     "execution_count": 25,
     "metadata": {},
     "output_type": "execute_result"
    }
   ],
   "source": [
    "variable_counts"
   ]
  },
  {
   "cell_type": "code",
   "execution_count": 26,
   "metadata": {},
   "outputs": [],
   "source": [
    "def entropy(d):\n",
    "    return - (d * torch.log(d + 1e-9)).sum()\n",
    "original_entropy = entropy(original_normalized)\n",
    "augmented_entropy = entropy(augmented_normalized)\n",
    "variable_entropy = entropy(variable_normalized)"
   ]
  },
  {
   "cell_type": "code",
   "execution_count": 27,
   "metadata": {},
   "outputs": [],
   "source": [
    "xlabels = torch.tensor([50, 100, 200, 400])\n",
    "original_xticks = ((promonet.PITCH_BINS - 1) * (torch.log2(xlabels) - promonet.LOG_FMIN) / (promonet.LOG_FMAX - promonet.LOG_FMIN)).to(torch.long)\n",
    "augmented_xticks = original_xticks\n",
    "variable_xticks = torch.clip(torch.searchsorted(hz[indices], xlabels), 0, promonet.PITCH_BINS - 1)\n",
    "xlabels = xlabels.tolist()\n",
    "variable_xlabels = xlabels.copy()\n",
    "variable_xlabels[-1] = f'{xlabels[-1]} ' + r'$\\bf{Hz}$'"
   ]
  },
  {
   "cell_type": "code",
   "execution_count": 28,
   "metadata": {},
   "outputs": [
    {
     "data": {
      "image/png": "[encoded data removed]",
      "text/plain": [
       "<Figure size 1500x300 with 3 Axes>"
      ]
     },
     "metadata": {},
     "output_type": "display_data"
    }
   ],
   "source": [
    "figure, axes = plt.subplots(1, 3, figsize=(15, 3))\n",
    "axes[0].stairs(original_counts, color='black')\n",
    "axes[0].set_xlabel(r'$\\bf{Original}$' + f'\\n (Entropy = {original_entropy:02f})', fontsize=12)\n",
    "axes[0].set_xticks(original_xticks, xlabels)\n",
    "axes[0].spines['top'].set_visible(False)\n",
    "axes[0].spines['right'].set_visible(False)\n",
    "axes[0].spines['bottom'].set_visible(False)\n",
    "axes[0].spines['left'].set_visible(False)\n",
    "axes[0].get_yaxis().set_ticks([])\n",
    "axes[0].set_ylim(0., ymax * original_counts.sum())\n",
    "for tick in original_xticks:\n",
    "    axes[0].vlines(tick, 0, ymax * original_counts.sum(), color='black', linestyle='--', alpha=.4)\n",
    "axes[1].stairs(augmented_counts, color='black')\n",
    "# axes[1].set_title('Maximizing the entropy of the pitch training distribution', weight='bold', fontsize=14)\n",
    "axes[1].set_xlabel(r'$\\bf{Augmented}$' + f'\\n (Entropy = {augmented_entropy:02f})', fontsize=12)\n",
    "axes[1].set_xticks(augmented_xticks, xlabels)\n",
    "axes[1].spines['top'].set_visible(False)\n",
    "axes[1].spines['right'].set_visible(False)\n",
    "axes[1].spines['bottom'].set_visible(False)\n",
    "axes[1].spines['left'].set_visible(False)\n",
    "axes[1].get_yaxis().set_ticks([])\n",
    "axes[1].set_ylim(0., ymax * augmented_counts.sum())\n",
    "for tick in augmented_xticks:\n",
    "    axes[1].vlines(tick, 0, ymax * augmented_counts.sum(), color='black', linestyle='--', alpha=.4)\n",
    "axes[2].set_xlabel(r'$\\bf{Variable}$-$\\bf{width}$' + f'\\n (Entropy = {variable_entropy:02f})', fontsize=12)\n",
    "axes[2].set_xticks(variable_xticks, variable_xlabels)\n",
    "axes[2].stairs(variable_counts, color='black')\n",
    "axes[2].spines['top'].set_visible(False)\n",
    "axes[2].spines['right'].set_visible(False)\n",
    "axes[2].spines['bottom'].set_visible(False)\n",
    "axes[2].spines['left'].set_visible(False)\n",
    "axes[2].get_yaxis().set_ticks([])\n",
    "axes[2].set_ylim(0., ymax * variable_counts.sum())\n",
    "for tick in variable_xticks:\n",
    "    axes[2].vlines(tick, 0, ymax * variable_counts.sum(), color='black', linestyle='--', alpha=.4)\n",
    "figure.savefig('pitch-entropy.pdf', bbox_inches='tight', pad_inches=0, dpi=300)"
   ]
  },
  {
   "cell_type": "code",
   "execution_count": null,
   "metadata": {},
   "outputs": [],
   "source": []
  }
 ],
 "metadata": {
  "kernelspec": {
   "display_name": "promonet",
   "language": "python",
   "name": "promonet"
  },
  "language_info": {
   "codemirror_mode": {
    "name": "ipython",
    "version": 3
   },
   "file_extension": ".py",
   "mimetype": "text/x-python",
   "name": "python",
   "nbconvert_exporter": "python",
   "pygments_lexer": "ipython3",
   "version": "3.10.13"
  }
 },
 "nbformat": 4,
 "nbformat_minor": 4
}
