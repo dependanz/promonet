{
 "cells": [
  {
   "cell_type": "code",
   "execution_count": null,
   "id": "2e054351-5589-4efe-ad6f-d39273a60a6e",
   "metadata": {},
   "outputs": [],
   "source": [
    "%load_ext autoreload\n",
    "%autoreload 2"
   ]
  },
  {
   "cell_type": "code",
   "execution_count": null,
   "id": "3339f150-18cc-4f1b-a8dc-92587a13c142",
   "metadata": {},
   "outputs": [],
   "source": [
    "import random\n",
    "\n",
    "import IPython.display as ipd\n",
    "import matplotlib.pyplot as plt\n",
    "import penn\n",
    "import ppgs\n",
    "import torch\n",
    "import torchaudio\n",
    "\n",
    "import promonet"
   ]
  },
  {
   "cell_type": "code",
   "execution_count": null,
   "id": "9fe53881-4882-455a-b6e0-b55378e544d4",
   "metadata": {},
   "outputs": [],
   "source": [
    "# Input representation\n",
    "ppgs.REPRESENTATION = 'mel'\n",
    "\n",
    "# Local checkpoint to use\n",
    "# If None, Huggingface will be used unless a checkpoint is given in the CLI\n",
    "ppgs.LOCAL_CHECKPOINT = f'/repos/ppgs/runs/mel/00200000.pt'"
   ]
  },
  {
   "cell_type": "markdown",
   "id": "d19351f1-31db-44b8-a4d3-6d13da7d1ed8",
   "metadata": {},
   "source": [
    "### Load audio"
   ]
  },
  {
   "cell_type": "code",
   "execution_count": null,
   "id": "788b5e70-4a94-44fe-a1f8-10490abc3b12",
   "metadata": {},
   "outputs": [],
   "source": [
    "stems = promonet.load.partition('vctk')['valid']\n",
    "stem = random.choice(stems)\n",
    "print(stem)\n",
    "audio = promonet.load.audio(promonet.CACHE_DIR / 'vctk' / f'{stem}-100.wav')\n",
    "# audio = promonet.load.audio('/hemera-storage1/pardo/max/test-audio/ill-be-back.wav')[:, :-int(.17 * promonet.SAMPLE_RATE)]\n",
    "ipd.Audio(audio, rate=promonet.SAMPLE_RATE)"
   ]
  },
  {
   "cell_type": "code",
   "execution_count": null,
   "id": "2f230c15-331e-4c01-97a9-34304f073259",
   "metadata": {},
   "outputs": [],
   "source": [
    "def pitch_track(audio, threshold=None, decoder='argmax'):\n",
    "    return penn.from_audio(\n",
    "        audio,\n",
    "        sample_rate=promonet.SAMPLE_RATE,\n",
    "        hopsize=promonet.convert.samples_to_seconds(promonet.HOPSIZE),\n",
    "        fmin=promonet.FMIN,\n",
    "        fmax=promonet.FMAX,\n",
    "        batch_size=2048,\n",
    "        center='half-hop',\n",
    "        decoder=decoder,\n",
    "        interp_unvoiced_at=threshold,\n",
    "        gpu=0)"
   ]
  },
  {
   "cell_type": "code",
   "execution_count": null,
   "id": "6cf44f43-7769-4805-a08c-d12846e8495f",
   "metadata": {},
   "outputs": [],
   "source": [
    "pitch, periodicity = pitch_track(audio, decoder='viterbi')"
   ]
  },
  {
   "cell_type": "code",
   "execution_count": null,
   "id": "614f4de1-6ae4-4437-a3ea-7bfb7364aa81",
   "metadata": {},
   "outputs": [],
   "source": [
    "pitches = {'Viterbi': pitch.cpu().squeeze()}\n",
    "thresholds = [.08, .16, .32]\n",
    "for threshold in thresholds:\n",
    "    key = 'Argmax' if threshold == 0 else f'Linear (α = {threshold:.03f})'\n",
    "    print(key)\n",
    "    pitches[key] = pitch_track(audio, threshold=threshold)[0].cpu().squeeze()\n",
    "\n",
    "figure, axes = plt.subplots(2, 1, figsize=(12, 6))\n",
    "colors = ['blue', 'orange', 'green', 'red']\n",
    "for i, (k, p) in enumerate(pitches.items()):\n",
    "    axes[0].plot(p.squeeze().cpu(), linewidth=1., label=k, color=colors[i])\n",
    "axes[0].legend(frameon=False)\n",
    "ymin = min(min(val) for val in pitches.values())\n",
    "ymax = max(max(val) for val in pitches.values())\n",
    "axes[0].set_xmargin(0.)\n",
    "axes[0].spines['top'].set_visible(False)\n",
    "axes[0].spines['right'].set_visible(False)\n",
    "axes[0].spines['bottom'].set_visible(False)\n",
    "axes[0].spines['left'].set_visible(False)\n",
    "axes[0].set_xticks([])\n",
    "ymin = ymin // 25 * 25\n",
    "ymax = (ymax + 25) // 25 * 25\n",
    "ystep = 25 if (ymax - ymin <= 150) else 50\n",
    "yticks = torch.arange(ymin, ymax + ystep, ystep)\n",
    "axes[0].set_yticks(yticks)\n",
    "for tick in yticks:\n",
    "    axes[0].hlines(tick, xmin=0., xmax=pitch.shape[-1], color='#aaaa', linestyle='--')\n",
    "axes[0].set_ylabel('Pitch (Hz)', fontsize=12)\n",
    "\n",
    "axes[1].plot(periodicity.squeeze().cpu(), color='black', linewidth=1.)\n",
    "ymin = periodicity.min()\n",
    "ymax = periodicity.max()\n",
    "axes[1].set_xmargin(0.)\n",
    "axes[1].spines['top'].set_visible(False)\n",
    "axes[1].spines['right'].set_visible(False)\n",
    "axes[1].spines['bottom'].set_visible(False)\n",
    "axes[1].spines['left'].set_visible(False)\n",
    "axes[1].set_xticks([])\n",
    "ymin = ymin // .25 * .25\n",
    "ymax = (ymax + .25) // .25 * .25\n",
    "ystep = .25\n",
    "yticks = set(torch.arange(ymin, ymax + ystep, ystep).tolist())\n",
    "for threshold in thresholds:\n",
    "    yticks.add(threshold)\n",
    "yticks = list(yticks)\n",
    "tickobjs = axes[1].set_yticks(yticks)\n",
    "for i, threshold in enumerate(thresholds):\n",
    "    idx = yticks.index(threshold)\n",
    "    color = colors[i + 1]\n",
    "    axes[1].get_yticklabels()[idx].set_color(color)\n",
    "    tickobjs[idx]._apply_params(color=color)\n",
    "    \n",
    "for tick in yticks:\n",
    "    if tick in thresholds:\n",
    "        color = colors[thresholds.index(tick) + 1]\n",
    "    else:\n",
    "        color = '#aaaa'\n",
    "    axes[1].hlines(tick, xmin=0., xmax=periodicity.shape[-1], color=color, linestyle='--')\n",
    "axes[1].set_ylabel('Periodicity', fontsize=12)\n",
    "plt.savefig(f'pitch-decode.png', bbox_inches='tight', pad_inches=0, transparent=True)"
   ]
  },
  {
   "cell_type": "code",
   "execution_count": null,
   "id": "b9ad6b79-b79a-4a54-92a2-d87f27bdb9bc",
   "metadata": {},
   "outputs": [],
   "source": []
  }
 ],
 "metadata": {
  "kernelspec": {
   "display_name": "promonet",
   "language": "python",
   "name": "promonet"
  },
  "language_info": {
   "codemirror_mode": {
    "name": "ipython",
    "version": 3
   },
   "file_extension": ".py",
   "mimetype": "text/x-python",
   "name": "python",
   "nbconvert_exporter": "python",
   "pygments_lexer": "ipython3",
   "version": "3.10.13"
  }
 },
 "nbformat": 4,
 "nbformat_minor": 5
}
