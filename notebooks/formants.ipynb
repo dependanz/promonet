{
 "cells": [
  {
   "cell_type": "code",
   "execution_count": null,
   "id": "455429ce-5b7f-4201-a560-7679677bc3c6",
   "metadata": {},
   "outputs": [],
   "source": [
    "%load_ext autoreload\n",
    "%autoreload 2"
   ]
  },
  {
   "cell_type": "code",
   "execution_count": null,
   "id": "22ff27f7-da1e-4ae1-91f7-ee4244c4e8d1",
   "metadata": {},
   "outputs": [],
   "source": [
    "import random\n",
    "\n",
    "import IPython.display as ipd\n",
    "import librosa\n",
    "import matplotlib\n",
    "import matplotlib.pyplot as plt\n",
    "import numpy as np\n",
    "import scipy\n",
    "import torch\n",
    "\n",
    "import promonet"
   ]
  },
  {
   "cell_type": "code",
   "execution_count": null,
   "id": "9baaabb7-7738-4d66-9e67-942c4d2d5bd1",
   "metadata": {},
   "outputs": [],
   "source": [
    "def plot_formants(audio):\n",
    "    plt.figure(figsize=(12, 12))\n",
    "\n",
    "    # Compute pitch and periodicity\n",
    "    pitch, periodicity = promonet.preprocess.from_audio(\n",
    "        audio,\n",
    "        gpu=0,\n",
    "        features=['pitch', 'periodicity'])\n",
    "    pitch, periodicity = pitch.cpu(), periodicity.cpu()\n",
    "\n",
    "    # Compute formants\n",
    "    formants = promonet.formants.from_audio(\n",
    "        audio,\n",
    "        promonet.SAMPLE_RATE,\n",
    "        pitch=pitch,\n",
    "        features='stft',\n",
    "        decoder='viterbi')\n",
    "    \n",
    "    # Compute STFT\n",
    "    features, frequencies = promonet.formants.stft(\n",
    "        audio,\n",
    "        promonet.SAMPLE_RATE)\n",
    "    features, frequencies = features.numpy(), frequencies.numpy()\n",
    "    \n",
    "    # Compute frame times\n",
    "    times = np.linspace(\n",
    "        0,\n",
    "        promonet.convert.samples_to_seconds(audio.shape[-1]),\n",
    "        features.shape[0])\n",
    "    \n",
    "    # Plot STFT\n",
    "    plt.pcolormesh(times, frequencies, features[:-1, :-1].T)\n",
    "    plt.yscale('symlog')\n",
    "    \n",
    "    # Overlay pitch\n",
    "    unvoiced = periodicity[0] < promonet.VOICING_THRESHOLD\n",
    "    x = torch.clone(pitch).squeeze()\n",
    "    x[unvoiced] = float('nan')\n",
    "    plt.plot(times, x, linewidth=2, color='black', label='Pitch')\n",
    "    \n",
    "    # Overlay formants\n",
    "    colors = ['orange', 'green', 'red', 'gray', 'yellow', 'teal']\n",
    "    for i, formant in enumerate(formants):\n",
    "        x = torch.clone(formant)\n",
    "        x[unvoiced] = float('nan')\n",
    "        plt.plot(\n",
    "            times,\n",
    "            x,\n",
    "            linewidth=2,\n",
    "            color=colors[i],\n",
    "            linestyle='--',\n",
    "            label=f'F{i}')\n",
    "\n",
    "    ipd.display(ipd.Audio(audio, rate=promonet.SAMPLE_RATE))"
   ]
  },
  {
   "cell_type": "code",
   "execution_count": null,
   "id": "5cac5bbe-877a-4d6e-860e-b929f0c516ee",
   "metadata": {},
   "outputs": [],
   "source": [
    "dataset = 'vctk'\n",
    "stems = promonet.load.partition(dataset)['train']\n",
    "stem = random.choice(stems)\n",
    "file = promonet.CACHE_DIR / dataset / f'{stem}-100.wav'\n",
    "audio = promonet.load.audio(file)"
   ]
  },
  {
   "cell_type": "code",
   "execution_count": null,
   "id": "48bcfecf-8752-43ed-8633-6ea8fdacc37b",
   "metadata": {},
   "outputs": [],
   "source": [
    "plot_formants(audio)"
   ]
  },
  {
   "cell_type": "code",
   "execution_count": null,
   "id": "78927c44-7bcd-4dfa-abad-ea827b5d2a81",
   "metadata": {},
   "outputs": [],
   "source": [
    "# Compute pitch and periodicity\n",
    "pitch, periodicity = promonet.preprocess.from_audio(\n",
    "    audio,\n",
    "    gpu=0,\n",
    "    features=['pitch', 'periodicity'])\n",
    "pitch, periodicity = pitch.cpu(), periodicity.cpu()\n",
    "\n",
    "# Compute formants\n",
    "formants, stages = promonet.formants.from_audio(\n",
    "    audio,\n",
    "    promonet.SAMPLE_RATE,\n",
    "    pitch=pitch,\n",
    "    features='stft',\n",
    "    decoder='viterbi')\n",
    "\n",
    "print(formants.mean(dim=1))\n",
    "\n",
    "for formant in formants:\n",
    "    plt.plot(formant)"
   ]
  },
  {
   "cell_type": "code",
   "execution_count": null,
   "id": "d1273333-36dd-462c-846a-a585e8c9e900",
   "metadata": {},
   "outputs": [],
   "source": [
    "# Compute STFT\n",
    "features, frequencies = promonet.formants.stft(\n",
    "    audio,\n",
    "    promonet.SAMPLE_RATE)\n",
    "features, frequencies = features.numpy(), frequencies.numpy()\n",
    "\n",
    "for stage in stages:\n",
    "    plt.figure()\n",
    "        \n",
    "    # Compute frame times\n",
    "    times = np.linspace(\n",
    "        0,\n",
    "        promonet.convert.samples_to_seconds(audio.shape[-1]),\n",
    "        features.shape[0])\n",
    "    \n",
    "    # Plot STFT\n",
    "    plt.pcolormesh(times, frequencies, stage[:-1, :-1].T)\n",
    "    plt.yscale('symlog')\n",
    "        \n",
    "    # Overlay pitch\n",
    "    unvoiced = periodicity[0] < promonet.VOICING_THRESHOLD\n",
    "    x = torch.clone(pitch).squeeze()\n",
    "    x[unvoiced] = float('nan')\n",
    "    plt.plot(times, x, linewidth=2, color='black', label='Pitch')"
   ]
  },
  {
   "cell_type": "code",
   "execution_count": null,
   "id": "9e80c10f-0f2f-4b93-ac53-c5ecf119d474",
   "metadata": {},
   "outputs": [],
   "source": [
    "# Compute pitch and periodicity\n",
    "pitch, periodicity = promonet.preprocess.from_audio(\n",
    "    audio,\n",
    "    gpu=0,\n",
    "    features=['pitch', 'periodicity'])\n",
    "pitch, periodicity = pitch.cpu().to(torch.float32), periodicity.cpu().to(torch.float32)"
   ]
  },
  {
   "cell_type": "code",
   "execution_count": null,
   "id": "31c8b425-fa9b-49fa-8f5b-dbb6ab8302da",
   "metadata": {},
   "outputs": [],
   "source": [
    "world_pitch, spectrogram, aperiodicity = promonet.baseline.world.analyze(\n",
    "    audio.numpy().squeeze(),\n",
    "    promonet.convert.samples_to_frames(audio.shape[-1]))\n",
    "plt.plot(world_pitch)\n",
    "plt.plot(pitch.squeeze())"
   ]
  },
  {
   "cell_type": "code",
   "execution_count": null,
   "id": "0cadbbbe-f846-4fb3-b01c-8a31eaa92e53",
   "metadata": {},
   "outputs": [],
   "source": [
    "# Original\n",
    "original_audio = promonet.load.audio('original.wav')\n",
    "original_formants = promonet.formants.from_audio(\n",
    "    original_audio,\n",
    "    promonet.SAMPLE_RATE,\n",
    "    features='stft',\n",
    "    decoder='viterbi')\n",
    "print(original_formants.mean(dim=1))\n",
    "for formant in original_formants:\n",
    "    plt.plot(formant)\n",
    "ipd.Audio(original_audio, rate=promonet.SAMPLE_RATE)"
   ]
  },
  {
   "cell_type": "code",
   "execution_count": null,
   "id": "830287c2-7af3-4017-b778-fe610abb5404",
   "metadata": {},
   "outputs": [],
   "source": [
    "# Down\n",
    "down_audio = promonet.load.audio('formant-071.wav')\n",
    "down_formants = promonet.formants.from_audio(\n",
    "    down_audio,\n",
    "    promonet.SAMPLE_RATE,\n",
    "    features='stft',\n",
    "    decoder='viterbi')\n",
    "print(down_formants.mean(dim=1))\n",
    "for formant in down_formants:\n",
    "    plt.plot(formant)\n",
    "ipd.Audio(down_audio, rate=promonet.SAMPLE_RATE)"
   ]
  },
  {
   "cell_type": "code",
   "execution_count": null,
   "id": "6df9c211-6078-4c1f-8709-071b0f358bf9",
   "metadata": {},
   "outputs": [],
   "source": [
    "# Up\n",
    "up_audio = promonet.load.audio('formant-141.wav')\n",
    "print(up_formants.mean(dim=1))\n",
    "up_formants = promonet.formants.from_audio(\n",
    "    up_audio,\n",
    "    promonet.SAMPLE_RATE,\n",
    "    features='stft',\n",
    "    decoder='viterbi')\n",
    "for formant in up_formants:\n",
    "    plt.plot(formant)\n",
    "ipd.Audio(up_audio, rate=promonet.SAMPLE_RATE)"
   ]
  },
  {
   "cell_type": "code",
   "execution_count": null,
   "id": "0c4b62fb-b6f9-4b1d-b402-1eebe511888e",
   "metadata": {},
   "outputs": [],
   "source": [
    "# Visualize all formants\n",
    "colors = ['blue', 'orange', 'green', 'red']\n",
    "plt.figure(figsize=(18, 18))\n",
    "chunk_size = None\n",
    "voiced = torch.clone(pitch)\n",
    "voiced[periodicity < promonet.VOICING_THRESHOLD] = float('nan')\n",
    "plt.plot(voiced[0, :chunk_size], color='black')\n",
    "for color, original, down, up in zip(\n",
    "    colors,\n",
    "    original_formants,\n",
    "    down_formants,\n",
    "    up_formants\n",
    "):\n",
    "    original, down, up = original[None], down[None], up[None]\n",
    "    original[periodicity < 2.0 * promonet.VOICING_THRESHOLD] = float('nan')\n",
    "    down[periodicity < 2.0 * promonet.VOICING_THRESHOLD] = float('nan')\n",
    "    up[periodicity < 2.0 * promonet.VOICING_THRESHOLD] = float('nan')\n",
    "    plt.plot(\n",
    "        original[0, :chunk_size],\n",
    "        color=color,\n",
    "        linestyle='solid',\n",
    "        label=f'{torch.min(original[~torch.isnan(original)]):.02f}')\n",
    "    plt.plot(\n",
    "        down[0, :chunk_size],\n",
    "        color=color,\n",
    "        linestyle='dotted',\n",
    "        label=f'{torch.min(down[~torch.isnan(down)]):.02f}')\n",
    "    plt.plot(\n",
    "        up[0, :chunk_size],\n",
    "        color=color,\n",
    "        linestyle='dashed',\n",
    "        label=f'{torch.min(up[~torch.isnan(up)]):.02f}')\n",
    "plt.legend()"
   ]
  },
  {
   "cell_type": "code",
   "execution_count": null,
   "id": "61e13fba-56fc-4004-8f26-e5e7990e6083",
   "metadata": {},
   "outputs": [],
   "source": [
    "print(down_formants.mean(dim=1))\n",
    "print(original_formants.mean(dim=1))\n",
    "print(up_formants.mean(dim=1))"
   ]
  },
  {
   "cell_type": "code",
   "execution_count": null,
   "id": "402f1439-dda9-4b33-9ec6-9f4bb6338bcb",
   "metadata": {},
   "outputs": [],
   "source": []
  }
 ],
 "metadata": {
  "kernelspec": {
   "display_name": "promonet",
   "language": "python",
   "name": "promonet"
  },
  "language_info": {
   "codemirror_mode": {
    "name": "ipython",
    "version": 3
   },
   "file_extension": ".py",
   "mimetype": "text/x-python",
   "name": "python",
   "nbconvert_exporter": "python",
   "pygments_lexer": "ipython3",
   "version": "3.10.13"
  }
 },
 "nbformat": 4,
 "nbformat_minor": 5
}
